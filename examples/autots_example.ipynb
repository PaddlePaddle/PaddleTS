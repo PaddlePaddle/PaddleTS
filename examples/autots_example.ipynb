{
 "cells": [
  {
   "cell_type": "markdown",
   "id": "6c5e2f81",
   "metadata": {},
   "source": [
    "# AutoTS Example\n",
    "\n",
    "AutoTS是用于支持PaddleTS的自动机器学习能力组件。\n",
    "\n",
    "AutoTS 可以支持 PaddleTS 模型和 pipeline 的自动超参数选择，减少人工介入成本，降低专业门槛。"
   ]
  },
  {
   "cell_type": "markdown",
   "id": "72271da9",
   "metadata": {},
   "source": [
    "## 1. 准备数据"
   ]
  },
  {
   "cell_type": "code",
   "execution_count": 1,
   "id": "ee177f3d",
   "metadata": {},
   "outputs": [
    {
     "name": "stderr",
     "output_type": "stream",
     "text": [
      "/home/work/anaconda3/envs/py37/lib/python3.7/site-packages/seaborn/rcmod.py:82: DeprecationWarning: distutils Version classes are deprecated. Use packaging.version instead.\n",
      "  if LooseVersion(mpl.__version__) >= \"3.0\":\n",
      "/home/work/anaconda3/envs/py37/lib/python3.7/site-packages/setuptools/_distutils/version.py:351: DeprecationWarning: distutils Version classes are deprecated. Use packaging.version instead.\n",
      "  other = LooseVersion(other)\n",
      "/home/work/anaconda3/envs/py37/lib/python3.7/site-packages/statsmodels/compat/pandas.py:12: DeprecationWarning: distutils Version classes are deprecated. Use packaging.version instead.\n",
      "  version = LooseVersion(pd.__version__)\n",
      "/home/work/anaconda3/envs/py37/lib/python3.7/site-packages/statsmodels/compat/pandas.py:14: DeprecationWarning: distutils Version classes are deprecated. Use packaging.version instead.\n",
      "  pandas_lt_1_0_0 = version < LooseVersion('1.0.0')\n",
      "/home/work/anaconda3/envs/py37/lib/python3.7/site-packages/statsmodels/compat/pandas.py:15: DeprecationWarning: distutils Version classes are deprecated. Use packaging.version instead.\n",
      "  pandas_lt_25_0 = version < LooseVersion('0.25.0')\n",
      "/home/work/anaconda3/envs/py37/lib/python3.7/site-packages/statsmodels/compat/pandas.py:16: DeprecationWarning: distutils Version classes are deprecated. Use packaging.version instead.\n",
      "  pandas_gte_23_0 = version >= LooseVersion('0.23.0')\n",
      "/home/work/anaconda3/envs/py37/lib/python3.7/site-packages/statsmodels/compat/scipy.py:6: DeprecationWarning: distutils Version classes are deprecated. Use packaging.version instead.\n",
      "  SP_VERSION = LooseVersion(scipy.__version__)\n",
      "/home/work/anaconda3/envs/py37/lib/python3.7/site-packages/statsmodels/compat/scipy.py:7: DeprecationWarning: distutils Version classes are deprecated. Use packaging.version instead.\n",
      "  SCIPY_11 = SP_VERSION < LooseVersion(\"1.2.0\")\n",
      "/home/work/anaconda3/envs/py37/lib/python3.7/site-packages/statsmodels/compat/scipy.py:10: DeprecationWarning: distutils Version classes are deprecated. Use packaging.version instead.\n",
      "  SCIPY_GT_14 = SP_VERSION >= LooseVersion(\"1.5\")\n",
      "/home/work/anaconda3/envs/py37/lib/python3.7/site-packages/statsmodels/compat/scipy.py:11: DeprecationWarning: distutils Version classes are deprecated. Use packaging.version instead.\n",
      "  SP_LT_15 = SP_VERSION < LooseVersion(\"1.5\")\n",
      "/home/work/anaconda3/envs/py37/lib/python3.7/site-packages/statsmodels/compat/numpy.py:46: DeprecationWarning: distutils Version classes are deprecated. Use packaging.version instead.\n",
      "  NP_LT_114 = LooseVersion(np.__version__) < LooseVersion('1.14')\n"
     ]
    }
   ],
   "source": [
    "from paddlets.datasets.repository import get_dataset\n",
    "tsdataset = get_dataset(\"UNI_WTH\")"
   ]
  },
  {
   "cell_type": "markdown",
   "id": "15507576",
   "metadata": {},
   "source": [
    "## 2 构造和训练\n",
    "\n",
    "通过四行代码，我们利用 MLPRegressor 初始化了一个 AutoTS 模型。 AutoTS 会在训练的过程中自动进行超参优化\n"
   ]
  },
  {
   "cell_type": "code",
   "execution_count": 2,
   "id": "753cc40c",
   "metadata": {},
   "outputs": [
    {
     "name": "stderr",
     "output_type": "stream",
     "text": [
      "[2022-11-03 20:02:47,407] [ray.tune.tune] [INFO] Initializing Ray automatically.For cluster usage or custom Ray initialization, call `ray.init(...)` before `tune.run`.\n",
      "2022-11-03 20:02:51,789\tWARNING function_runner.py:604 -- Function checkpointing is disabled. This may result in unexpected behavior when using checkpointing features or certain schedulers. To enable, set the train function arguments to be `func(config, checkpoint_dir=None)`.\n",
      "\u001B[32m[I 2022-11-03 20:02:51,811]\u001B[0m A new study created in memory with name: optuna\u001B[0m\n",
      "\u001B[2m\u001B[36m(pid=11305)\u001B[0m /home/work/anaconda3/envs/py37/lib/python3.7/site-packages/statsmodels/compat/pandas.py:12: DeprecationWarning: distutils Version classes are deprecated. Use packaging.version instead.\n",
      "\u001B[2m\u001B[36m(pid=11305)\u001B[0m   version = LooseVersion(pd.__version__)\n",
      "\u001B[2m\u001B[36m(pid=11305)\u001B[0m /home/work/anaconda3/envs/py37/lib/python3.7/site-packages/statsmodels/compat/pandas.py:14: DeprecationWarning: distutils Version classes are deprecated. Use packaging.version instead.\n",
      "\u001B[2m\u001B[36m(pid=11305)\u001B[0m   pandas_lt_1_0_0 = version < LooseVersion('1.0.0')\n",
      "\u001B[2m\u001B[36m(pid=11305)\u001B[0m /home/work/anaconda3/envs/py37/lib/python3.7/site-packages/statsmodels/compat/pandas.py:15: DeprecationWarning: distutils Version classes are deprecated. Use packaging.version instead.\n",
      "\u001B[2m\u001B[36m(pid=11305)\u001B[0m   pandas_lt_25_0 = version < LooseVersion('0.25.0')\n",
      "\u001B[2m\u001B[36m(pid=11305)\u001B[0m /home/work/anaconda3/envs/py37/lib/python3.7/site-packages/statsmodels/compat/pandas.py:16: DeprecationWarning: distutils Version classes are deprecated. Use packaging.version instead.\n",
      "\u001B[2m\u001B[36m(pid=11305)\u001B[0m   pandas_gte_23_0 = version >= LooseVersion('0.23.0')\n",
      "\u001B[2m\u001B[36m(pid=11305)\u001B[0m /home/work/anaconda3/envs/py37/lib/python3.7/site-packages/statsmodels/compat/scipy.py:6: DeprecationWarning: distutils Version classes are deprecated. Use packaging.version instead.\n",
      "\u001B[2m\u001B[36m(pid=11305)\u001B[0m   SP_VERSION = LooseVersion(scipy.__version__)\n",
      "\u001B[2m\u001B[36m(pid=11305)\u001B[0m /home/work/anaconda3/envs/py37/lib/python3.7/site-packages/statsmodels/compat/scipy.py:7: DeprecationWarning: distutils Version classes are deprecated. Use packaging.version instead.\n",
      "\u001B[2m\u001B[36m(pid=11305)\u001B[0m   SCIPY_11 = SP_VERSION < LooseVersion(\"1.2.0\")\n",
      "\u001B[2m\u001B[36m(pid=11305)\u001B[0m /home/work/anaconda3/envs/py37/lib/python3.7/site-packages/statsmodels/compat/scipy.py:10: DeprecationWarning: distutils Version classes are deprecated. Use packaging.version instead.\n",
      "\u001B[2m\u001B[36m(pid=11305)\u001B[0m   SCIPY_GT_14 = SP_VERSION >= LooseVersion(\"1.5\")\n",
      "\u001B[2m\u001B[36m(pid=11305)\u001B[0m /home/work/anaconda3/envs/py37/lib/python3.7/site-packages/statsmodels/compat/scipy.py:11: DeprecationWarning: distutils Version classes are deprecated. Use packaging.version instead.\n",
      "\u001B[2m\u001B[36m(pid=11305)\u001B[0m   SP_LT_15 = SP_VERSION < LooseVersion(\"1.5\")\n",
      "\u001B[2m\u001B[36m(pid=11305)\u001B[0m /home/work/anaconda3/envs/py37/lib/python3.7/site-packages/statsmodels/compat/numpy.py:46: DeprecationWarning: distutils Version classes are deprecated. Use packaging.version instead.\n",
      "\u001B[2m\u001B[36m(pid=11305)\u001B[0m   NP_LT_114 = LooseVersion(np.__version__) < LooseVersion('1.14')\n",
      "\u001B[2m\u001B[36m(pid=11305)\u001B[0m /home/work/anaconda3/envs/py37/lib/python3.7/site-packages/seaborn/rcmod.py:82: DeprecationWarning: distutils Version classes are deprecated. Use packaging.version instead.\n",
      "\u001B[2m\u001B[36m(pid=11305)\u001B[0m   if LooseVersion(mpl.__version__) >= \"3.0\":\n",
      "\u001B[2m\u001B[36m(pid=11305)\u001B[0m /home/work/anaconda3/envs/py37/lib/python3.7/site-packages/setuptools/_distutils/version.py:351: DeprecationWarning: distutils Version classes are deprecated. Use packaging.version instead.\n",
      "\u001B[2m\u001B[36m(pid=11305)\u001B[0m   other = LooseVersion(other)\n"
     ]
    },
    {
     "data": {
      "text/html": [
       "== Status ==<br>Current time: 2022-11-03 20:02:59 (running for 00:00:07.14)<br>Memory usage on this node: 24.9/187.6 GiB<br>Using FIFO scheduling algorithm.<br>Resources requested: 1.0/56 CPUs, 0/0 GPUs, 0.0/116.57 GiB heap, 0.0/53.95 GiB objects<br>Result logdir: /home/work/ray_results/run_trial_2022-11-03_20-02-51<br>Number of trials: 1/1 (1 RUNNING)<br><table>\n",
       "<thead>\n",
       "<tr><th>Trial name        </th><th>status  </th><th>loc               </th><th style=\"text-align: right;\">  batch_size</th><th>hidden_config  </th><th style=\"text-align: right;\">  max_epochs</th><th style=\"text-align: right;\">  optimizer_params/learning_rate</th><th style=\"text-align: right;\">  patience</th><th>use_bn  </th></tr>\n",
       "</thead>\n",
       "<tbody>\n",
       "<tr><td>run_trial_71ac71fc</td><td>RUNNING </td><td>10.182.62.13:11305</td><td style=\"text-align: right;\">          56</td><td>Choice_3: [128]</td><td style=\"text-align: right;\">          60</td><td style=\"text-align: right;\">                      0.00449983</td><td style=\"text-align: right;\">        40</td><td>False   </td></tr>\n",
       "</tbody>\n",
       "</table><br><br>"
      ],
      "text/plain": [
       "<IPython.core.display.HTML object>"
      ]
     },
     "metadata": {},
     "output_type": "display_data"
    },
    {
     "name": "stderr",
     "output_type": "stream",
     "text": [
      "\u001B[2m\u001B[36m(run_trial pid=11305)\u001B[0m [2022-11-03 20:02:59,608] [paddlets.automl.optimize_runner] [INFO] trial config: {'hidden_config': 'Choice_3: [128]', 'use_bn': False, 'batch_size': 56, 'max_epochs': 60, 'optimizer_params': {'learning_rate': 0.004499832883384026}, 'patience': 40}\n",
      "\u001B[2m\u001B[36m(run_trial pid=11305)\u001B[0m [2022-11-03 20:02:59,609] [paddlets.automl.optimize_runner] [INFO] setup_estimator: init model. Params: {'hidden_config': [128], 'use_bn': False, 'batch_size': 56, 'max_epochs': 60, 'optimizer_params': {'learning_rate': 0.004499832883384026}, 'patience': 40, 'in_chunk_len': 96, 'out_chunk_len': 2, 'skip_chunk_len': 0, 'sampling_stride': 1, 'seed': 2022}\n",
      "\u001B[2m\u001B[36m(run_trial pid=11305)\u001B[0m [2022-11-03 20:03:02,153] [paddlets.models.common.callbacks.callbacks] [INFO] epoch 000| loss: 2.856326| val_0_mae: 1.229897| 0:00:02s\n",
      "\u001B[2m\u001B[36m(run_trial pid=11305)\u001B[0m [2022-11-03 20:03:04,140] [paddlets.models.common.callbacks.callbacks] [INFO] epoch 001| loss: 1.160878| val_0_mae: 0.775531| 0:00:04s\n"
     ]
    },
    {
     "data": {
      "text/html": [
       "== Status ==<br>Current time: 2022-11-03 20:03:04 (running for 00:00:12.17)<br>Memory usage on this node: 24.9/187.6 GiB<br>Using FIFO scheduling algorithm.<br>Resources requested: 1.0/56 CPUs, 0/0 GPUs, 0.0/116.57 GiB heap, 0.0/53.95 GiB objects<br>Result logdir: /home/work/ray_results/run_trial_2022-11-03_20-02-51<br>Number of trials: 1/1 (1 RUNNING)<br><table>\n",
       "<thead>\n",
       "<tr><th>Trial name        </th><th>status  </th><th>loc               </th><th style=\"text-align: right;\">  batch_size</th><th>hidden_config  </th><th style=\"text-align: right;\">  max_epochs</th><th style=\"text-align: right;\">  optimizer_params/learning_rate</th><th style=\"text-align: right;\">  patience</th><th>use_bn  </th></tr>\n",
       "</thead>\n",
       "<tbody>\n",
       "<tr><td>run_trial_71ac71fc</td><td>RUNNING </td><td>10.182.62.13:11305</td><td style=\"text-align: right;\">          56</td><td>Choice_3: [128]</td><td style=\"text-align: right;\">          60</td><td style=\"text-align: right;\">                      0.00449983</td><td style=\"text-align: right;\">        40</td><td>False   </td></tr>\n",
       "</tbody>\n",
       "</table><br><br>"
      ],
      "text/plain": [
       "<IPython.core.display.HTML object>"
      ]
     },
     "metadata": {},
     "output_type": "display_data"
    },
    {
     "name": "stderr",
     "output_type": "stream",
     "text": [
      "\u001B[2m\u001B[36m(run_trial pid=11305)\u001B[0m [2022-11-03 20:03:06,285] [paddlets.models.common.callbacks.callbacks] [INFO] epoch 002| loss: 0.998960| val_0_mae: 0.755660| 0:00:06s\n",
      "\u001B[2m\u001B[36m(run_trial pid=11305)\u001B[0m [2022-11-03 20:03:08,333] [paddlets.models.common.callbacks.callbacks] [INFO] epoch 003| loss: 0.947306| val_0_mae: 0.722077| 0:00:08s\n"
     ]
    },
    {
     "data": {
      "text/html": [
       "== Status ==<br>Current time: 2022-11-03 20:03:09 (running for 00:00:17.18)<br>Memory usage on this node: 25.0/187.6 GiB<br>Using FIFO scheduling algorithm.<br>Resources requested: 1.0/56 CPUs, 0/0 GPUs, 0.0/116.57 GiB heap, 0.0/53.95 GiB objects<br>Result logdir: /home/work/ray_results/run_trial_2022-11-03_20-02-51<br>Number of trials: 1/1 (1 RUNNING)<br><table>\n",
       "<thead>\n",
       "<tr><th>Trial name        </th><th>status  </th><th>loc               </th><th style=\"text-align: right;\">  batch_size</th><th>hidden_config  </th><th style=\"text-align: right;\">  max_epochs</th><th style=\"text-align: right;\">  optimizer_params/learning_rate</th><th style=\"text-align: right;\">  patience</th><th>use_bn  </th></tr>\n",
       "</thead>\n",
       "<tbody>\n",
       "<tr><td>run_trial_71ac71fc</td><td>RUNNING </td><td>10.182.62.13:11305</td><td style=\"text-align: right;\">          56</td><td>Choice_3: [128]</td><td style=\"text-align: right;\">          60</td><td style=\"text-align: right;\">                      0.00449983</td><td style=\"text-align: right;\">        40</td><td>False   </td></tr>\n",
       "</tbody>\n",
       "</table><br><br>"
      ],
      "text/plain": [
       "<IPython.core.display.HTML object>"
      ]
     },
     "metadata": {},
     "output_type": "display_data"
    },
    {
     "name": "stderr",
     "output_type": "stream",
     "text": [
      "\u001B[2m\u001B[36m(run_trial pid=11305)\u001B[0m [2022-11-03 20:03:10,556] [paddlets.models.common.callbacks.callbacks] [INFO] epoch 004| loss: 0.958243| val_0_mae: 0.761343| 0:00:10s\n",
      "\u001B[2m\u001B[36m(run_trial pid=11305)\u001B[0m [2022-11-03 20:03:12,564] [paddlets.models.common.callbacks.callbacks] [INFO] epoch 005| loss: 0.925082| val_0_mae: 0.803716| 0:00:12s\n",
      "\u001B[2m\u001B[36m(run_trial pid=11305)\u001B[0m [2022-11-03 20:03:14,577] [paddlets.models.common.callbacks.callbacks] [INFO] epoch 006| loss: 0.912865| val_0_mae: 0.762769| 0:00:14s\n"
     ]
    },
    {
     "data": {
      "text/html": [
       "== Status ==<br>Current time: 2022-11-03 20:03:14 (running for 00:00:22.20)<br>Memory usage on this node: 25.0/187.6 GiB<br>Using FIFO scheduling algorithm.<br>Resources requested: 1.0/56 CPUs, 0/0 GPUs, 0.0/116.57 GiB heap, 0.0/53.95 GiB objects<br>Result logdir: /home/work/ray_results/run_trial_2022-11-03_20-02-51<br>Number of trials: 1/1 (1 RUNNING)<br><table>\n",
       "<thead>\n",
       "<tr><th>Trial name        </th><th>status  </th><th>loc               </th><th style=\"text-align: right;\">  batch_size</th><th>hidden_config  </th><th style=\"text-align: right;\">  max_epochs</th><th style=\"text-align: right;\">  optimizer_params/learning_rate</th><th style=\"text-align: right;\">  patience</th><th>use_bn  </th></tr>\n",
       "</thead>\n",
       "<tbody>\n",
       "<tr><td>run_trial_71ac71fc</td><td>RUNNING </td><td>10.182.62.13:11305</td><td style=\"text-align: right;\">          56</td><td>Choice_3: [128]</td><td style=\"text-align: right;\">          60</td><td style=\"text-align: right;\">                      0.00449983</td><td style=\"text-align: right;\">        40</td><td>False   </td></tr>\n",
       "</tbody>\n",
       "</table><br><br>"
      ],
      "text/plain": [
       "<IPython.core.display.HTML object>"
      ]
     },
     "metadata": {},
     "output_type": "display_data"
    },
    {
     "name": "stderr",
     "output_type": "stream",
     "text": [
      "\u001B[2m\u001B[36m(run_trial pid=11305)\u001B[0m [2022-11-03 20:03:16,739] [paddlets.models.common.callbacks.callbacks] [INFO] epoch 007| loss: 0.865105| val_0_mae: 0.755473| 0:00:16s\n",
      "\u001B[2m\u001B[36m(run_trial pid=11305)\u001B[0m [2022-11-03 20:03:18,923] [paddlets.models.common.callbacks.callbacks] [INFO] epoch 008| loss: 0.898068| val_0_mae: 0.723722| 0:00:19s\n"
     ]
    },
    {
     "data": {
      "text/html": [
       "== Status ==<br>Current time: 2022-11-03 20:03:19 (running for 00:00:27.21)<br>Memory usage on this node: 25.0/187.6 GiB<br>Using FIFO scheduling algorithm.<br>Resources requested: 1.0/56 CPUs, 0/0 GPUs, 0.0/116.57 GiB heap, 0.0/53.95 GiB objects<br>Result logdir: /home/work/ray_results/run_trial_2022-11-03_20-02-51<br>Number of trials: 1/1 (1 RUNNING)<br><table>\n",
       "<thead>\n",
       "<tr><th>Trial name        </th><th>status  </th><th>loc               </th><th style=\"text-align: right;\">  batch_size</th><th>hidden_config  </th><th style=\"text-align: right;\">  max_epochs</th><th style=\"text-align: right;\">  optimizer_params/learning_rate</th><th style=\"text-align: right;\">  patience</th><th>use_bn  </th></tr>\n",
       "</thead>\n",
       "<tbody>\n",
       "<tr><td>run_trial_71ac71fc</td><td>RUNNING </td><td>10.182.62.13:11305</td><td style=\"text-align: right;\">          56</td><td>Choice_3: [128]</td><td style=\"text-align: right;\">          60</td><td style=\"text-align: right;\">                      0.00449983</td><td style=\"text-align: right;\">        40</td><td>False   </td></tr>\n",
       "</tbody>\n",
       "</table><br><br>"
      ],
      "text/plain": [
       "<IPython.core.display.HTML object>"
      ]
     },
     "metadata": {},
     "output_type": "display_data"
    },
    {
     "name": "stderr",
     "output_type": "stream",
     "text": [
      "\u001B[2m\u001B[36m(run_trial pid=11305)\u001B[0m [2022-11-03 20:03:21,047] [paddlets.models.common.callbacks.callbacks] [INFO] epoch 009| loss: 0.890738| val_0_mae: 0.718975| 0:00:21s\n",
      "\u001B[2m\u001B[36m(run_trial pid=11305)\u001B[0m [2022-11-03 20:03:23,168] [paddlets.models.common.callbacks.callbacks] [INFO] epoch 010| loss: 0.873479| val_0_mae: 0.724771| 0:00:23s\n"
     ]
    },
    {
     "data": {
      "text/html": [
       "== Status ==<br>Current time: 2022-11-03 20:03:24 (running for 00:00:32.22)<br>Memory usage on this node: 25.0/187.6 GiB<br>Using FIFO scheduling algorithm.<br>Resources requested: 1.0/56 CPUs, 0/0 GPUs, 0.0/116.57 GiB heap, 0.0/53.95 GiB objects<br>Result logdir: /home/work/ray_results/run_trial_2022-11-03_20-02-51<br>Number of trials: 1/1 (1 RUNNING)<br><table>\n",
       "<thead>\n",
       "<tr><th>Trial name        </th><th>status  </th><th>loc               </th><th style=\"text-align: right;\">  batch_size</th><th>hidden_config  </th><th style=\"text-align: right;\">  max_epochs</th><th style=\"text-align: right;\">  optimizer_params/learning_rate</th><th style=\"text-align: right;\">  patience</th><th>use_bn  </th></tr>\n",
       "</thead>\n",
       "<tbody>\n",
       "<tr><td>run_trial_71ac71fc</td><td>RUNNING </td><td>10.182.62.13:11305</td><td style=\"text-align: right;\">          56</td><td>Choice_3: [128]</td><td style=\"text-align: right;\">          60</td><td style=\"text-align: right;\">                      0.00449983</td><td style=\"text-align: right;\">        40</td><td>False   </td></tr>\n",
       "</tbody>\n",
       "</table><br><br>"
      ],
      "text/plain": [
       "<IPython.core.display.HTML object>"
      ]
     },
     "metadata": {},
     "output_type": "display_data"
    },
    {
     "name": "stderr",
     "output_type": "stream",
     "text": [
      "\u001B[2m\u001B[36m(run_trial pid=11305)\u001B[0m [2022-11-03 20:03:25,288] [paddlets.models.common.callbacks.callbacks] [INFO] epoch 011| loss: 0.884810| val_0_mae: 0.786096| 0:00:25s\n",
      "\u001B[2m\u001B[36m(run_trial pid=11305)\u001B[0m [2022-11-03 20:03:27,457] [paddlets.models.common.callbacks.callbacks] [INFO] epoch 012| loss: 0.872988| val_0_mae: 0.728278| 0:00:27s\n",
      "\u001B[2m\u001B[36m(run_trial pid=11305)\u001B[0m [2022-11-03 20:03:29,544] [paddlets.models.common.callbacks.callbacks] [INFO] epoch 013| loss: 0.909676| val_0_mae: 0.696781| 0:00:29s\n"
     ]
    },
    {
     "data": {
      "text/html": [
       "== Status ==<br>Current time: 2022-11-03 20:03:29 (running for 00:00:37.23)<br>Memory usage on this node: 25.0/187.6 GiB<br>Using FIFO scheduling algorithm.<br>Resources requested: 1.0/56 CPUs, 0/0 GPUs, 0.0/116.57 GiB heap, 0.0/53.95 GiB objects<br>Result logdir: /home/work/ray_results/run_trial_2022-11-03_20-02-51<br>Number of trials: 1/1 (1 RUNNING)<br><table>\n",
       "<thead>\n",
       "<tr><th>Trial name        </th><th>status  </th><th>loc               </th><th style=\"text-align: right;\">  batch_size</th><th>hidden_config  </th><th style=\"text-align: right;\">  max_epochs</th><th style=\"text-align: right;\">  optimizer_params/learning_rate</th><th style=\"text-align: right;\">  patience</th><th>use_bn  </th></tr>\n",
       "</thead>\n",
       "<tbody>\n",
       "<tr><td>run_trial_71ac71fc</td><td>RUNNING </td><td>10.182.62.13:11305</td><td style=\"text-align: right;\">          56</td><td>Choice_3: [128]</td><td style=\"text-align: right;\">          60</td><td style=\"text-align: right;\">                      0.00449983</td><td style=\"text-align: right;\">        40</td><td>False   </td></tr>\n",
       "</tbody>\n",
       "</table><br><br>"
      ],
      "text/plain": [
       "<IPython.core.display.HTML object>"
      ]
     },
     "metadata": {},
     "output_type": "display_data"
    },
    {
     "name": "stderr",
     "output_type": "stream",
     "text": [
      "\u001B[2m\u001B[36m(run_trial pid=11305)\u001B[0m [2022-11-03 20:03:31,608] [paddlets.models.common.callbacks.callbacks] [INFO] epoch 014| loss: 0.848208| val_0_mae: 0.711566| 0:00:31s\n",
      "\u001B[2m\u001B[36m(run_trial pid=11305)\u001B[0m [2022-11-03 20:03:33,768] [paddlets.models.common.callbacks.callbacks] [INFO] epoch 015| loss: 0.851496| val_0_mae: 0.806171| 0:00:33s\n"
     ]
    },
    {
     "data": {
      "text/html": [
       "== Status ==<br>Current time: 2022-11-03 20:03:34 (running for 00:00:42.24)<br>Memory usage on this node: 24.9/187.6 GiB<br>Using FIFO scheduling algorithm.<br>Resources requested: 1.0/56 CPUs, 0/0 GPUs, 0.0/116.57 GiB heap, 0.0/53.95 GiB objects<br>Result logdir: /home/work/ray_results/run_trial_2022-11-03_20-02-51<br>Number of trials: 1/1 (1 RUNNING)<br><table>\n",
       "<thead>\n",
       "<tr><th>Trial name        </th><th>status  </th><th>loc               </th><th style=\"text-align: right;\">  batch_size</th><th>hidden_config  </th><th style=\"text-align: right;\">  max_epochs</th><th style=\"text-align: right;\">  optimizer_params/learning_rate</th><th style=\"text-align: right;\">  patience</th><th>use_bn  </th></tr>\n",
       "</thead>\n",
       "<tbody>\n",
       "<tr><td>run_trial_71ac71fc</td><td>RUNNING </td><td>10.182.62.13:11305</td><td style=\"text-align: right;\">          56</td><td>Choice_3: [128]</td><td style=\"text-align: right;\">          60</td><td style=\"text-align: right;\">                      0.00449983</td><td style=\"text-align: right;\">        40</td><td>False   </td></tr>\n",
       "</tbody>\n",
       "</table><br><br>"
      ],
      "text/plain": [
       "<IPython.core.display.HTML object>"
      ]
     },
     "metadata": {},
     "output_type": "display_data"
    },
    {
     "name": "stderr",
     "output_type": "stream",
     "text": [
      "\u001B[2m\u001B[36m(run_trial pid=11305)\u001B[0m [2022-11-03 20:03:35,758] [paddlets.models.common.callbacks.callbacks] [INFO] epoch 016| loss: 0.869127| val_0_mae: 0.734490| 0:00:35s\n",
      "\u001B[2m\u001B[36m(run_trial pid=11305)\u001B[0m [2022-11-03 20:03:37,836] [paddlets.models.common.callbacks.callbacks] [INFO] epoch 017| loss: 0.838859| val_0_mae: 0.971325| 0:00:37s\n"
     ]
    },
    {
     "data": {
      "text/html": [
       "== Status ==<br>Current time: 2022-11-03 20:03:39 (running for 00:00:47.25)<br>Memory usage on this node: 25.0/187.6 GiB<br>Using FIFO scheduling algorithm.<br>Resources requested: 1.0/56 CPUs, 0/0 GPUs, 0.0/116.57 GiB heap, 0.0/53.95 GiB objects<br>Result logdir: /home/work/ray_results/run_trial_2022-11-03_20-02-51<br>Number of trials: 1/1 (1 RUNNING)<br><table>\n",
       "<thead>\n",
       "<tr><th>Trial name        </th><th>status  </th><th>loc               </th><th style=\"text-align: right;\">  batch_size</th><th>hidden_config  </th><th style=\"text-align: right;\">  max_epochs</th><th style=\"text-align: right;\">  optimizer_params/learning_rate</th><th style=\"text-align: right;\">  patience</th><th>use_bn  </th></tr>\n",
       "</thead>\n",
       "<tbody>\n",
       "<tr><td>run_trial_71ac71fc</td><td>RUNNING </td><td>10.182.62.13:11305</td><td style=\"text-align: right;\">          56</td><td>Choice_3: [128]</td><td style=\"text-align: right;\">          60</td><td style=\"text-align: right;\">                      0.00449983</td><td style=\"text-align: right;\">        40</td><td>False   </td></tr>\n",
       "</tbody>\n",
       "</table><br><br>"
      ],
      "text/plain": [
       "<IPython.core.display.HTML object>"
      ]
     },
     "metadata": {},
     "output_type": "display_data"
    },
    {
     "name": "stderr",
     "output_type": "stream",
     "text": [
      "\u001B[2m\u001B[36m(run_trial pid=11305)\u001B[0m [2022-11-03 20:03:39,836] [paddlets.models.common.callbacks.callbacks] [INFO] epoch 018| loss: 0.856865| val_0_mae: 0.954913| 0:00:39s\n",
      "\u001B[2m\u001B[36m(run_trial pid=11305)\u001B[0m [2022-11-03 20:03:41,801] [paddlets.models.common.callbacks.callbacks] [INFO] epoch 019| loss: 0.848833| val_0_mae: 0.688188| 0:00:41s\n",
      "\u001B[2m\u001B[36m(run_trial pid=11305)\u001B[0m [2022-11-03 20:03:43,660] [paddlets.models.common.callbacks.callbacks] [INFO] epoch 020| loss: 0.834995| val_0_mae: 0.736178| 0:00:43s\n"
     ]
    },
    {
     "data": {
      "text/html": [
       "== Status ==<br>Current time: 2022-11-03 20:03:44 (running for 00:00:52.26)<br>Memory usage on this node: 25.0/187.6 GiB<br>Using FIFO scheduling algorithm.<br>Resources requested: 1.0/56 CPUs, 0/0 GPUs, 0.0/116.57 GiB heap, 0.0/53.95 GiB objects<br>Result logdir: /home/work/ray_results/run_trial_2022-11-03_20-02-51<br>Number of trials: 1/1 (1 RUNNING)<br><table>\n",
       "<thead>\n",
       "<tr><th>Trial name        </th><th>status  </th><th>loc               </th><th style=\"text-align: right;\">  batch_size</th><th>hidden_config  </th><th style=\"text-align: right;\">  max_epochs</th><th style=\"text-align: right;\">  optimizer_params/learning_rate</th><th style=\"text-align: right;\">  patience</th><th>use_bn  </th></tr>\n",
       "</thead>\n",
       "<tbody>\n",
       "<tr><td>run_trial_71ac71fc</td><td>RUNNING </td><td>10.182.62.13:11305</td><td style=\"text-align: right;\">          56</td><td>Choice_3: [128]</td><td style=\"text-align: right;\">          60</td><td style=\"text-align: right;\">                      0.00449983</td><td style=\"text-align: right;\">        40</td><td>False   </td></tr>\n",
       "</tbody>\n",
       "</table><br><br>"
      ],
      "text/plain": [
       "<IPython.core.display.HTML object>"
      ]
     },
     "metadata": {},
     "output_type": "display_data"
    },
    {
     "name": "stderr",
     "output_type": "stream",
     "text": [
      "\u001B[2m\u001B[36m(run_trial pid=11305)\u001B[0m [2022-11-03 20:03:45,657] [paddlets.models.common.callbacks.callbacks] [INFO] epoch 021| loss: 0.825734| val_0_mae: 0.705783| 0:00:45s\n",
      "\u001B[2m\u001B[36m(run_trial pid=11305)\u001B[0m [2022-11-03 20:03:47,534] [paddlets.models.common.callbacks.callbacks] [INFO] epoch 022| loss: 0.837967| val_0_mae: 0.697123| 0:00:47s\n",
      "\u001B[2m\u001B[36m(run_trial pid=11305)\u001B[0m [2022-11-03 20:03:49,722] [paddlets.models.common.callbacks.callbacks] [INFO] epoch 023| loss: 0.854652| val_0_mae: 0.692568| 0:00:49s\n"
     ]
    },
    {
     "data": {
      "text/html": [
       "== Status ==<br>Current time: 2022-11-03 20:03:49 (running for 00:00:57.27)<br>Memory usage on this node: 25.0/187.6 GiB<br>Using FIFO scheduling algorithm.<br>Resources requested: 1.0/56 CPUs, 0/0 GPUs, 0.0/116.57 GiB heap, 0.0/53.95 GiB objects<br>Result logdir: /home/work/ray_results/run_trial_2022-11-03_20-02-51<br>Number of trials: 1/1 (1 RUNNING)<br><table>\n",
       "<thead>\n",
       "<tr><th>Trial name        </th><th>status  </th><th>loc               </th><th style=\"text-align: right;\">  batch_size</th><th>hidden_config  </th><th style=\"text-align: right;\">  max_epochs</th><th style=\"text-align: right;\">  optimizer_params/learning_rate</th><th style=\"text-align: right;\">  patience</th><th>use_bn  </th></tr>\n",
       "</thead>\n",
       "<tbody>\n",
       "<tr><td>run_trial_71ac71fc</td><td>RUNNING </td><td>10.182.62.13:11305</td><td style=\"text-align: right;\">          56</td><td>Choice_3: [128]</td><td style=\"text-align: right;\">          60</td><td style=\"text-align: right;\">                      0.00449983</td><td style=\"text-align: right;\">        40</td><td>False   </td></tr>\n",
       "</tbody>\n",
       "</table><br><br>"
      ],
      "text/plain": [
       "<IPython.core.display.HTML object>"
      ]
     },
     "metadata": {},
     "output_type": "display_data"
    },
    {
     "name": "stderr",
     "output_type": "stream",
     "text": [
      "\u001B[2m\u001B[36m(run_trial pid=11305)\u001B[0m [2022-11-03 20:03:51,891] [paddlets.models.common.callbacks.callbacks] [INFO] epoch 024| loss: 0.808185| val_0_mae: 0.714913| 0:00:52s\n",
      "\u001B[2m\u001B[36m(run_trial pid=11305)\u001B[0m [2022-11-03 20:03:53,889] [paddlets.models.common.callbacks.callbacks] [INFO] epoch 025| loss: 0.839031| val_0_mae: 0.704093| 0:00:54s\n"
     ]
    },
    {
     "data": {
      "text/html": [
       "== Status ==<br>Current time: 2022-11-03 20:03:54 (running for 00:01:02.29)<br>Memory usage on this node: 24.9/187.6 GiB<br>Using FIFO scheduling algorithm.<br>Resources requested: 1.0/56 CPUs, 0/0 GPUs, 0.0/116.57 GiB heap, 0.0/53.95 GiB objects<br>Result logdir: /home/work/ray_results/run_trial_2022-11-03_20-02-51<br>Number of trials: 1/1 (1 RUNNING)<br><table>\n",
       "<thead>\n",
       "<tr><th>Trial name        </th><th>status  </th><th>loc               </th><th style=\"text-align: right;\">  batch_size</th><th>hidden_config  </th><th style=\"text-align: right;\">  max_epochs</th><th style=\"text-align: right;\">  optimizer_params/learning_rate</th><th style=\"text-align: right;\">  patience</th><th>use_bn  </th></tr>\n",
       "</thead>\n",
       "<tbody>\n",
       "<tr><td>run_trial_71ac71fc</td><td>RUNNING </td><td>10.182.62.13:11305</td><td style=\"text-align: right;\">          56</td><td>Choice_3: [128]</td><td style=\"text-align: right;\">          60</td><td style=\"text-align: right;\">                      0.00449983</td><td style=\"text-align: right;\">        40</td><td>False   </td></tr>\n",
       "</tbody>\n",
       "</table><br><br>"
      ],
      "text/plain": [
       "<IPython.core.display.HTML object>"
      ]
     },
     "metadata": {},
     "output_type": "display_data"
    },
    {
     "name": "stderr",
     "output_type": "stream",
     "text": [
      "\u001B[2m\u001B[36m(run_trial pid=11305)\u001B[0m [2022-11-03 20:03:55,872] [paddlets.models.common.callbacks.callbacks] [INFO] epoch 026| loss: 0.788373| val_0_mae: 0.711539| 0:00:56s\n",
      "\u001B[2m\u001B[36m(run_trial pid=11305)\u001B[0m [2022-11-03 20:03:57,925] [paddlets.models.common.callbacks.callbacks] [INFO] epoch 027| loss: 0.817460| val_0_mae: 0.728863| 0:00:58s\n"
     ]
    },
    {
     "data": {
      "text/html": [
       "== Status ==<br>Current time: 2022-11-03 20:03:59 (running for 00:01:07.30)<br>Memory usage on this node: 25.0/187.6 GiB<br>Using FIFO scheduling algorithm.<br>Resources requested: 1.0/56 CPUs, 0/0 GPUs, 0.0/116.57 GiB heap, 0.0/53.95 GiB objects<br>Result logdir: /home/work/ray_results/run_trial_2022-11-03_20-02-51<br>Number of trials: 1/1 (1 RUNNING)<br><table>\n",
       "<thead>\n",
       "<tr><th>Trial name        </th><th>status  </th><th>loc               </th><th style=\"text-align: right;\">  batch_size</th><th>hidden_config  </th><th style=\"text-align: right;\">  max_epochs</th><th style=\"text-align: right;\">  optimizer_params/learning_rate</th><th style=\"text-align: right;\">  patience</th><th>use_bn  </th></tr>\n",
       "</thead>\n",
       "<tbody>\n",
       "<tr><td>run_trial_71ac71fc</td><td>RUNNING </td><td>10.182.62.13:11305</td><td style=\"text-align: right;\">          56</td><td>Choice_3: [128]</td><td style=\"text-align: right;\">          60</td><td style=\"text-align: right;\">                      0.00449983</td><td style=\"text-align: right;\">        40</td><td>False   </td></tr>\n",
       "</tbody>\n",
       "</table><br><br>"
      ],
      "text/plain": [
       "<IPython.core.display.HTML object>"
      ]
     },
     "metadata": {},
     "output_type": "display_data"
    },
    {
     "name": "stderr",
     "output_type": "stream",
     "text": [
      "\u001B[2m\u001B[36m(run_trial pid=11305)\u001B[0m [2022-11-03 20:03:59,941] [paddlets.models.common.callbacks.callbacks] [INFO] epoch 028| loss: 0.877939| val_0_mae: 0.819403| 0:01:00s\n",
      "\u001B[2m\u001B[36m(run_trial pid=11305)\u001B[0m [2022-11-03 20:04:02,028] [paddlets.models.common.callbacks.callbacks] [INFO] epoch 029| loss: 0.794066| val_0_mae: 0.691422| 0:01:02s\n",
      "\u001B[2m\u001B[36m(run_trial pid=11305)\u001B[0m [2022-11-03 20:04:04,138] [paddlets.models.common.callbacks.callbacks] [INFO] epoch 030| loss: 0.839372| val_0_mae: 0.695349| 0:01:04s\n"
     ]
    },
    {
     "data": {
      "text/html": [
       "== Status ==<br>Current time: 2022-11-03 20:04:04 (running for 00:01:12.31)<br>Memory usage on this node: 25.0/187.6 GiB<br>Using FIFO scheduling algorithm.<br>Resources requested: 1.0/56 CPUs, 0/0 GPUs, 0.0/116.57 GiB heap, 0.0/53.95 GiB objects<br>Result logdir: /home/work/ray_results/run_trial_2022-11-03_20-02-51<br>Number of trials: 1/1 (1 RUNNING)<br><table>\n",
       "<thead>\n",
       "<tr><th>Trial name        </th><th>status  </th><th>loc               </th><th style=\"text-align: right;\">  batch_size</th><th>hidden_config  </th><th style=\"text-align: right;\">  max_epochs</th><th style=\"text-align: right;\">  optimizer_params/learning_rate</th><th style=\"text-align: right;\">  patience</th><th>use_bn  </th></tr>\n",
       "</thead>\n",
       "<tbody>\n",
       "<tr><td>run_trial_71ac71fc</td><td>RUNNING </td><td>10.182.62.13:11305</td><td style=\"text-align: right;\">          56</td><td>Choice_3: [128]</td><td style=\"text-align: right;\">          60</td><td style=\"text-align: right;\">                      0.00449983</td><td style=\"text-align: right;\">        40</td><td>False   </td></tr>\n",
       "</tbody>\n",
       "</table><br><br>"
      ],
      "text/plain": [
       "<IPython.core.display.HTML object>"
      ]
     },
     "metadata": {},
     "output_type": "display_data"
    },
    {
     "name": "stderr",
     "output_type": "stream",
     "text": [
      "\u001B[2m\u001B[36m(run_trial pid=11305)\u001B[0m [2022-11-03 20:04:06,322] [paddlets.models.common.callbacks.callbacks] [INFO] epoch 031| loss: 0.801316| val_0_mae: 0.717429| 0:01:06s\n",
      "\u001B[2m\u001B[36m(run_trial pid=11305)\u001B[0m [2022-11-03 20:04:08,471] [paddlets.models.common.callbacks.callbacks] [INFO] epoch 032| loss: 0.806276| val_0_mae: 0.676108| 0:01:08s\n"
     ]
    },
    {
     "data": {
      "text/html": [
       "== Status ==<br>Current time: 2022-11-03 20:04:09 (running for 00:01:17.32)<br>Memory usage on this node: 25.0/187.6 GiB<br>Using FIFO scheduling algorithm.<br>Resources requested: 1.0/56 CPUs, 0/0 GPUs, 0.0/116.57 GiB heap, 0.0/53.95 GiB objects<br>Result logdir: /home/work/ray_results/run_trial_2022-11-03_20-02-51<br>Number of trials: 1/1 (1 RUNNING)<br><table>\n",
       "<thead>\n",
       "<tr><th>Trial name        </th><th>status  </th><th>loc               </th><th style=\"text-align: right;\">  batch_size</th><th>hidden_config  </th><th style=\"text-align: right;\">  max_epochs</th><th style=\"text-align: right;\">  optimizer_params/learning_rate</th><th style=\"text-align: right;\">  patience</th><th>use_bn  </th></tr>\n",
       "</thead>\n",
       "<tbody>\n",
       "<tr><td>run_trial_71ac71fc</td><td>RUNNING </td><td>10.182.62.13:11305</td><td style=\"text-align: right;\">          56</td><td>Choice_3: [128]</td><td style=\"text-align: right;\">          60</td><td style=\"text-align: right;\">                      0.00449983</td><td style=\"text-align: right;\">        40</td><td>False   </td></tr>\n",
       "</tbody>\n",
       "</table><br><br>"
      ],
      "text/plain": [
       "<IPython.core.display.HTML object>"
      ]
     },
     "metadata": {},
     "output_type": "display_data"
    },
    {
     "name": "stderr",
     "output_type": "stream",
     "text": [
      "\u001B[2m\u001B[36m(run_trial pid=11305)\u001B[0m [2022-11-03 20:04:10,756] [paddlets.models.common.callbacks.callbacks] [INFO] epoch 033| loss: 0.828345| val_0_mae: 0.758810| 0:01:10s\n",
      "\u001B[2m\u001B[36m(run_trial pid=11305)\u001B[0m [2022-11-03 20:04:12,902] [paddlets.models.common.callbacks.callbacks] [INFO] epoch 034| loss: 0.801512| val_0_mae: 0.676172| 0:01:13s\n"
     ]
    },
    {
     "data": {
      "text/html": [
       "== Status ==<br>Current time: 2022-11-03 20:04:14 (running for 00:01:22.33)<br>Memory usage on this node: 24.9/187.6 GiB<br>Using FIFO scheduling algorithm.<br>Resources requested: 1.0/56 CPUs, 0/0 GPUs, 0.0/116.57 GiB heap, 0.0/53.95 GiB objects<br>Result logdir: /home/work/ray_results/run_trial_2022-11-03_20-02-51<br>Number of trials: 1/1 (1 RUNNING)<br><table>\n",
       "<thead>\n",
       "<tr><th>Trial name        </th><th>status  </th><th>loc               </th><th style=\"text-align: right;\">  batch_size</th><th>hidden_config  </th><th style=\"text-align: right;\">  max_epochs</th><th style=\"text-align: right;\">  optimizer_params/learning_rate</th><th style=\"text-align: right;\">  patience</th><th>use_bn  </th></tr>\n",
       "</thead>\n",
       "<tbody>\n",
       "<tr><td>run_trial_71ac71fc</td><td>RUNNING </td><td>10.182.62.13:11305</td><td style=\"text-align: right;\">          56</td><td>Choice_3: [128]</td><td style=\"text-align: right;\">          60</td><td style=\"text-align: right;\">                      0.00449983</td><td style=\"text-align: right;\">        40</td><td>False   </td></tr>\n",
       "</tbody>\n",
       "</table><br><br>"
      ],
      "text/plain": [
       "<IPython.core.display.HTML object>"
      ]
     },
     "metadata": {},
     "output_type": "display_data"
    },
    {
     "name": "stderr",
     "output_type": "stream",
     "text": [
      "\u001B[2m\u001B[36m(run_trial pid=11305)\u001B[0m [2022-11-03 20:04:14,952] [paddlets.models.common.callbacks.callbacks] [INFO] epoch 035| loss: 0.809040| val_0_mae: 0.668975| 0:01:15s\n",
      "\u001B[2m\u001B[36m(run_trial pid=11305)\u001B[0m [2022-11-03 20:04:17,102] [paddlets.models.common.callbacks.callbacks] [INFO] epoch 036| loss: 0.832657| val_0_mae: 0.788913| 0:01:17s\n",
      "\u001B[2m\u001B[36m(run_trial pid=11305)\u001B[0m [2022-11-03 20:04:19,175] [paddlets.models.common.callbacks.callbacks] [INFO] epoch 037| loss: 0.805827| val_0_mae: 0.714582| 0:01:19s\n"
     ]
    },
    {
     "data": {
      "text/html": [
       "== Status ==<br>Current time: 2022-11-03 20:04:19 (running for 00:01:27.34)<br>Memory usage on this node: 25.0/187.6 GiB<br>Using FIFO scheduling algorithm.<br>Resources requested: 1.0/56 CPUs, 0/0 GPUs, 0.0/116.57 GiB heap, 0.0/53.95 GiB objects<br>Result logdir: /home/work/ray_results/run_trial_2022-11-03_20-02-51<br>Number of trials: 1/1 (1 RUNNING)<br><table>\n",
       "<thead>\n",
       "<tr><th>Trial name        </th><th>status  </th><th>loc               </th><th style=\"text-align: right;\">  batch_size</th><th>hidden_config  </th><th style=\"text-align: right;\">  max_epochs</th><th style=\"text-align: right;\">  optimizer_params/learning_rate</th><th style=\"text-align: right;\">  patience</th><th>use_bn  </th></tr>\n",
       "</thead>\n",
       "<tbody>\n",
       "<tr><td>run_trial_71ac71fc</td><td>RUNNING </td><td>10.182.62.13:11305</td><td style=\"text-align: right;\">          56</td><td>Choice_3: [128]</td><td style=\"text-align: right;\">          60</td><td style=\"text-align: right;\">                      0.00449983</td><td style=\"text-align: right;\">        40</td><td>False   </td></tr>\n",
       "</tbody>\n",
       "</table><br><br>"
      ],
      "text/plain": [
       "<IPython.core.display.HTML object>"
      ]
     },
     "metadata": {},
     "output_type": "display_data"
    },
    {
     "name": "stderr",
     "output_type": "stream",
     "text": [
      "\u001B[2m\u001B[36m(run_trial pid=11305)\u001B[0m [2022-11-03 20:04:21,289] [paddlets.models.common.callbacks.callbacks] [INFO] epoch 038| loss: 0.792320| val_0_mae: 0.697567| 0:01:21s\n",
      "\u001B[2m\u001B[36m(run_trial pid=11305)\u001B[0m [2022-11-03 20:04:23,365] [paddlets.models.common.callbacks.callbacks] [INFO] epoch 039| loss: 0.788845| val_0_mae: 0.734373| 0:01:23s\n"
     ]
    },
    {
     "data": {
      "text/html": [
       "== Status ==<br>Current time: 2022-11-03 20:04:24 (running for 00:01:32.35)<br>Memory usage on this node: 25.0/187.6 GiB<br>Using FIFO scheduling algorithm.<br>Resources requested: 1.0/56 CPUs, 0/0 GPUs, 0.0/116.57 GiB heap, 0.0/53.95 GiB objects<br>Result logdir: /home/work/ray_results/run_trial_2022-11-03_20-02-51<br>Number of trials: 1/1 (1 RUNNING)<br><table>\n",
       "<thead>\n",
       "<tr><th>Trial name        </th><th>status  </th><th>loc               </th><th style=\"text-align: right;\">  batch_size</th><th>hidden_config  </th><th style=\"text-align: right;\">  max_epochs</th><th style=\"text-align: right;\">  optimizer_params/learning_rate</th><th style=\"text-align: right;\">  patience</th><th>use_bn  </th></tr>\n",
       "</thead>\n",
       "<tbody>\n",
       "<tr><td>run_trial_71ac71fc</td><td>RUNNING </td><td>10.182.62.13:11305</td><td style=\"text-align: right;\">          56</td><td>Choice_3: [128]</td><td style=\"text-align: right;\">          60</td><td style=\"text-align: right;\">                      0.00449983</td><td style=\"text-align: right;\">        40</td><td>False   </td></tr>\n",
       "</tbody>\n",
       "</table><br><br>"
      ],
      "text/plain": [
       "<IPython.core.display.HTML object>"
      ]
     },
     "metadata": {},
     "output_type": "display_data"
    },
    {
     "name": "stderr",
     "output_type": "stream",
     "text": [
      "\u001B[2m\u001B[36m(run_trial pid=11305)\u001B[0m [2022-11-03 20:04:25,355] [paddlets.models.common.callbacks.callbacks] [INFO] epoch 040| loss: 0.784746| val_0_mae: 0.728672| 0:01:25s\n",
      "\u001B[2m\u001B[36m(run_trial pid=11305)\u001B[0m [2022-11-03 20:04:27,447] [paddlets.models.common.callbacks.callbacks] [INFO] epoch 041| loss: 0.809968| val_0_mae: 0.718755| 0:01:27s\n",
      "\u001B[2m\u001B[36m(run_trial pid=11305)\u001B[0m [2022-11-03 20:04:29,619] [paddlets.models.common.callbacks.callbacks] [INFO] epoch 042| loss: 0.788953| val_0_mae: 0.718379| 0:01:29s\n"
     ]
    },
    {
     "data": {
      "text/html": [
       "== Status ==<br>Current time: 2022-11-03 20:04:29 (running for 00:01:37.36)<br>Memory usage on this node: 25.0/187.6 GiB<br>Using FIFO scheduling algorithm.<br>Resources requested: 1.0/56 CPUs, 0/0 GPUs, 0.0/116.57 GiB heap, 0.0/53.95 GiB objects<br>Result logdir: /home/work/ray_results/run_trial_2022-11-03_20-02-51<br>Number of trials: 1/1 (1 RUNNING)<br><table>\n",
       "<thead>\n",
       "<tr><th>Trial name        </th><th>status  </th><th>loc               </th><th style=\"text-align: right;\">  batch_size</th><th>hidden_config  </th><th style=\"text-align: right;\">  max_epochs</th><th style=\"text-align: right;\">  optimizer_params/learning_rate</th><th style=\"text-align: right;\">  patience</th><th>use_bn  </th></tr>\n",
       "</thead>\n",
       "<tbody>\n",
       "<tr><td>run_trial_71ac71fc</td><td>RUNNING </td><td>10.182.62.13:11305</td><td style=\"text-align: right;\">          56</td><td>Choice_3: [128]</td><td style=\"text-align: right;\">          60</td><td style=\"text-align: right;\">                      0.00449983</td><td style=\"text-align: right;\">        40</td><td>False   </td></tr>\n",
       "</tbody>\n",
       "</table><br><br>"
      ],
      "text/plain": [
       "<IPython.core.display.HTML object>"
      ]
     },
     "metadata": {},
     "output_type": "display_data"
    },
    {
     "name": "stderr",
     "output_type": "stream",
     "text": [
      "\u001B[2m\u001B[36m(run_trial pid=11305)\u001B[0m [2022-11-03 20:04:31,698] [paddlets.models.common.callbacks.callbacks] [INFO] epoch 043| loss: 0.800546| val_0_mae: 0.744525| 0:01:31s\n",
      "\u001B[2m\u001B[36m(run_trial pid=11305)\u001B[0m [2022-11-03 20:04:33,616] [paddlets.models.common.callbacks.callbacks] [INFO] epoch 044| loss: 0.785008| val_0_mae: 0.839546| 0:01:33s\n"
     ]
    },
    {
     "data": {
      "text/html": [
       "== Status ==<br>Current time: 2022-11-03 20:04:34 (running for 00:01:42.37)<br>Memory usage on this node: 25.0/187.6 GiB<br>Using FIFO scheduling algorithm.<br>Resources requested: 1.0/56 CPUs, 0/0 GPUs, 0.0/116.57 GiB heap, 0.0/53.95 GiB objects<br>Result logdir: /home/work/ray_results/run_trial_2022-11-03_20-02-51<br>Number of trials: 1/1 (1 RUNNING)<br><table>\n",
       "<thead>\n",
       "<tr><th>Trial name        </th><th>status  </th><th>loc               </th><th style=\"text-align: right;\">  batch_size</th><th>hidden_config  </th><th style=\"text-align: right;\">  max_epochs</th><th style=\"text-align: right;\">  optimizer_params/learning_rate</th><th style=\"text-align: right;\">  patience</th><th>use_bn  </th></tr>\n",
       "</thead>\n",
       "<tbody>\n",
       "<tr><td>run_trial_71ac71fc</td><td>RUNNING </td><td>10.182.62.13:11305</td><td style=\"text-align: right;\">          56</td><td>Choice_3: [128]</td><td style=\"text-align: right;\">          60</td><td style=\"text-align: right;\">                      0.00449983</td><td style=\"text-align: right;\">        40</td><td>False   </td></tr>\n",
       "</tbody>\n",
       "</table><br><br>"
      ],
      "text/plain": [
       "<IPython.core.display.HTML object>"
      ]
     },
     "metadata": {},
     "output_type": "display_data"
    },
    {
     "name": "stderr",
     "output_type": "stream",
     "text": [
      "\u001B[2m\u001B[36m(run_trial pid=11305)\u001B[0m [2022-11-03 20:04:35,732] [paddlets.models.common.callbacks.callbacks] [INFO] epoch 045| loss: 0.796770| val_0_mae: 0.689772| 0:01:35s\n",
      "\u001B[2m\u001B[36m(run_trial pid=11305)\u001B[0m [2022-11-03 20:04:37,853] [paddlets.models.common.callbacks.callbacks] [INFO] epoch 046| loss: 0.791661| val_0_mae: 0.728156| 0:01:37s\n",
      "\u001B[2m\u001B[36m(run_trial pid=11305)\u001B[0m [2022-11-03 20:04:39,815] [paddlets.models.common.callbacks.callbacks] [INFO] epoch 047| loss: 0.812213| val_0_mae: 0.699642| 0:01:39s\n"
     ]
    },
    {
     "data": {
      "text/html": [
       "== Status ==<br>Current time: 2022-11-03 20:04:39 (running for 00:01:47.38)<br>Memory usage on this node: 25.0/187.6 GiB<br>Using FIFO scheduling algorithm.<br>Resources requested: 1.0/56 CPUs, 0/0 GPUs, 0.0/116.57 GiB heap, 0.0/53.95 GiB objects<br>Result logdir: /home/work/ray_results/run_trial_2022-11-03_20-02-51<br>Number of trials: 1/1 (1 RUNNING)<br><table>\n",
       "<thead>\n",
       "<tr><th>Trial name        </th><th>status  </th><th>loc               </th><th style=\"text-align: right;\">  batch_size</th><th>hidden_config  </th><th style=\"text-align: right;\">  max_epochs</th><th style=\"text-align: right;\">  optimizer_params/learning_rate</th><th style=\"text-align: right;\">  patience</th><th>use_bn  </th></tr>\n",
       "</thead>\n",
       "<tbody>\n",
       "<tr><td>run_trial_71ac71fc</td><td>RUNNING </td><td>10.182.62.13:11305</td><td style=\"text-align: right;\">          56</td><td>Choice_3: [128]</td><td style=\"text-align: right;\">          60</td><td style=\"text-align: right;\">                      0.00449983</td><td style=\"text-align: right;\">        40</td><td>False   </td></tr>\n",
       "</tbody>\n",
       "</table><br><br>"
      ],
      "text/plain": [
       "<IPython.core.display.HTML object>"
      ]
     },
     "metadata": {},
     "output_type": "display_data"
    },
    {
     "name": "stderr",
     "output_type": "stream",
     "text": [
      "\u001B[2m\u001B[36m(run_trial pid=11305)\u001B[0m [2022-11-03 20:04:41,827] [paddlets.models.common.callbacks.callbacks] [INFO] epoch 048| loss: 0.778323| val_0_mae: 0.724409| 0:01:41s\n",
      "\u001B[2m\u001B[36m(run_trial pid=11305)\u001B[0m [2022-11-03 20:04:43,923] [paddlets.models.common.callbacks.callbacks] [INFO] epoch 049| loss: 0.791183| val_0_mae: 0.698313| 0:01:44s\n"
     ]
    },
    {
     "data": {
      "text/html": [
       "== Status ==<br>Current time: 2022-11-03 20:04:44 (running for 00:01:52.39)<br>Memory usage on this node: 25.0/187.6 GiB<br>Using FIFO scheduling algorithm.<br>Resources requested: 1.0/56 CPUs, 0/0 GPUs, 0.0/116.57 GiB heap, 0.0/53.95 GiB objects<br>Result logdir: /home/work/ray_results/run_trial_2022-11-03_20-02-51<br>Number of trials: 1/1 (1 RUNNING)<br><table>\n",
       "<thead>\n",
       "<tr><th>Trial name        </th><th>status  </th><th>loc               </th><th style=\"text-align: right;\">  batch_size</th><th>hidden_config  </th><th style=\"text-align: right;\">  max_epochs</th><th style=\"text-align: right;\">  optimizer_params/learning_rate</th><th style=\"text-align: right;\">  patience</th><th>use_bn  </th></tr>\n",
       "</thead>\n",
       "<tbody>\n",
       "<tr><td>run_trial_71ac71fc</td><td>RUNNING </td><td>10.182.62.13:11305</td><td style=\"text-align: right;\">          56</td><td>Choice_3: [128]</td><td style=\"text-align: right;\">          60</td><td style=\"text-align: right;\">                      0.00449983</td><td style=\"text-align: right;\">        40</td><td>False   </td></tr>\n",
       "</tbody>\n",
       "</table><br><br>"
      ],
      "text/plain": [
       "<IPython.core.display.HTML object>"
      ]
     },
     "metadata": {},
     "output_type": "display_data"
    },
    {
     "name": "stderr",
     "output_type": "stream",
     "text": [
      "\u001B[2m\u001B[36m(run_trial pid=11305)\u001B[0m [2022-11-03 20:04:46,166] [paddlets.models.common.callbacks.callbacks] [INFO] epoch 050| loss: 0.815525| val_0_mae: 0.674832| 0:01:46s\n",
      "\u001B[2m\u001B[36m(run_trial pid=11305)\u001B[0m [2022-11-03 20:04:48,236] [paddlets.models.common.callbacks.callbacks] [INFO] epoch 051| loss: 0.807873| val_0_mae: 0.712359| 0:01:48s\n"
     ]
    },
    {
     "data": {
      "text/html": [
       "== Status ==<br>Current time: 2022-11-03 20:04:49 (running for 00:01:57.40)<br>Memory usage on this node: 25.0/187.6 GiB<br>Using FIFO scheduling algorithm.<br>Resources requested: 1.0/56 CPUs, 0/0 GPUs, 0.0/116.57 GiB heap, 0.0/53.95 GiB objects<br>Result logdir: /home/work/ray_results/run_trial_2022-11-03_20-02-51<br>Number of trials: 1/1 (1 RUNNING)<br><table>\n",
       "<thead>\n",
       "<tr><th>Trial name        </th><th>status  </th><th>loc               </th><th style=\"text-align: right;\">  batch_size</th><th>hidden_config  </th><th style=\"text-align: right;\">  max_epochs</th><th style=\"text-align: right;\">  optimizer_params/learning_rate</th><th style=\"text-align: right;\">  patience</th><th>use_bn  </th></tr>\n",
       "</thead>\n",
       "<tbody>\n",
       "<tr><td>run_trial_71ac71fc</td><td>RUNNING </td><td>10.182.62.13:11305</td><td style=\"text-align: right;\">          56</td><td>Choice_3: [128]</td><td style=\"text-align: right;\">          60</td><td style=\"text-align: right;\">                      0.00449983</td><td style=\"text-align: right;\">        40</td><td>False   </td></tr>\n",
       "</tbody>\n",
       "</table><br><br>"
      ],
      "text/plain": [
       "<IPython.core.display.HTML object>"
      ]
     },
     "metadata": {},
     "output_type": "display_data"
    },
    {
     "name": "stderr",
     "output_type": "stream",
     "text": [
      "\u001B[2m\u001B[36m(run_trial pid=11305)\u001B[0m [2022-11-03 20:04:50,203] [paddlets.models.common.callbacks.callbacks] [INFO] epoch 052| loss: 0.777435| val_0_mae: 0.727482| 0:01:50s\n",
      "\u001B[2m\u001B[36m(run_trial pid=11305)\u001B[0m [2022-11-03 20:04:52,337] [paddlets.models.common.callbacks.callbacks] [INFO] epoch 053| loss: 0.780841| val_0_mae: 0.695095| 0:01:52s\n",
      "\u001B[2m\u001B[36m(run_trial pid=11305)\u001B[0m [2022-11-03 20:04:54,395] [paddlets.models.common.callbacks.callbacks] [INFO] epoch 054| loss: 0.773622| val_0_mae: 0.842002| 0:01:54s\n"
     ]
    },
    {
     "data": {
      "text/html": [
       "== Status ==<br>Current time: 2022-11-03 20:04:54 (running for 00:02:02.41)<br>Memory usage on this node: 25.0/187.6 GiB<br>Using FIFO scheduling algorithm.<br>Resources requested: 1.0/56 CPUs, 0/0 GPUs, 0.0/116.57 GiB heap, 0.0/53.95 GiB objects<br>Result logdir: /home/work/ray_results/run_trial_2022-11-03_20-02-51<br>Number of trials: 1/1 (1 RUNNING)<br><table>\n",
       "<thead>\n",
       "<tr><th>Trial name        </th><th>status  </th><th>loc               </th><th style=\"text-align: right;\">  batch_size</th><th>hidden_config  </th><th style=\"text-align: right;\">  max_epochs</th><th style=\"text-align: right;\">  optimizer_params/learning_rate</th><th style=\"text-align: right;\">  patience</th><th>use_bn  </th></tr>\n",
       "</thead>\n",
       "<tbody>\n",
       "<tr><td>run_trial_71ac71fc</td><td>RUNNING </td><td>10.182.62.13:11305</td><td style=\"text-align: right;\">          56</td><td>Choice_3: [128]</td><td style=\"text-align: right;\">          60</td><td style=\"text-align: right;\">                      0.00449983</td><td style=\"text-align: right;\">        40</td><td>False   </td></tr>\n",
       "</tbody>\n",
       "</table><br><br>"
      ],
      "text/plain": [
       "<IPython.core.display.HTML object>"
      ]
     },
     "metadata": {},
     "output_type": "display_data"
    },
    {
     "name": "stderr",
     "output_type": "stream",
     "text": [
      "\u001B[2m\u001B[36m(run_trial pid=11305)\u001B[0m [2022-11-03 20:04:56,540] [paddlets.models.common.callbacks.callbacks] [INFO] epoch 055| loss: 0.819734| val_0_mae: 0.683169| 0:01:56s\n",
      "\u001B[2m\u001B[36m(run_trial pid=11305)\u001B[0m [2022-11-03 20:04:58,562] [paddlets.models.common.callbacks.callbacks] [INFO] epoch 056| loss: 0.791527| val_0_mae: 0.698997| 0:01:58s\n"
     ]
    },
    {
     "data": {
      "text/html": [
       "== Status ==<br>Current time: 2022-11-03 20:04:59 (running for 00:02:07.42)<br>Memory usage on this node: 25.0/187.6 GiB<br>Using FIFO scheduling algorithm.<br>Resources requested: 1.0/56 CPUs, 0/0 GPUs, 0.0/116.57 GiB heap, 0.0/53.95 GiB objects<br>Result logdir: /home/work/ray_results/run_trial_2022-11-03_20-02-51<br>Number of trials: 1/1 (1 RUNNING)<br><table>\n",
       "<thead>\n",
       "<tr><th>Trial name        </th><th>status  </th><th>loc               </th><th style=\"text-align: right;\">  batch_size</th><th>hidden_config  </th><th style=\"text-align: right;\">  max_epochs</th><th style=\"text-align: right;\">  optimizer_params/learning_rate</th><th style=\"text-align: right;\">  patience</th><th>use_bn  </th></tr>\n",
       "</thead>\n",
       "<tbody>\n",
       "<tr><td>run_trial_71ac71fc</td><td>RUNNING </td><td>10.182.62.13:11305</td><td style=\"text-align: right;\">          56</td><td>Choice_3: [128]</td><td style=\"text-align: right;\">          60</td><td style=\"text-align: right;\">                      0.00449983</td><td style=\"text-align: right;\">        40</td><td>False   </td></tr>\n",
       "</tbody>\n",
       "</table><br><br>"
      ],
      "text/plain": [
       "<IPython.core.display.HTML object>"
      ]
     },
     "metadata": {},
     "output_type": "display_data"
    },
    {
     "name": "stderr",
     "output_type": "stream",
     "text": [
      "\u001B[2m\u001B[36m(run_trial pid=11305)\u001B[0m [2022-11-03 20:05:00,639] [paddlets.models.common.callbacks.callbacks] [INFO] epoch 057| loss: 0.761863| val_0_mae: 0.721633| 0:02:00s\n",
      "\u001B[2m\u001B[36m(run_trial pid=11305)\u001B[0m [2022-11-03 20:05:02,625] [paddlets.models.common.callbacks.callbacks] [INFO] epoch 058| loss: 0.777408| val_0_mae: 0.701855| 0:02:02s\n",
      "\u001B[2m\u001B[36m(run_trial pid=11305)\u001B[0m [2022-11-03 20:05:04,749] [paddlets.models.common.callbacks.callbacks] [INFO] epoch 059| loss: 0.776127| val_0_mae: 0.718466| 0:02:04s\n",
      "\u001B[2m\u001B[36m(run_trial pid=11305)\u001B[0m [2022-11-03 20:05:04,750] [paddlets.models.common.callbacks.callbacks] [INFO] Stop training because you reached max_epochs = 60 with best_epoch = 35 and best_val_0_mae = 0.668975\n",
      "\u001B[2m\u001B[36m(run_trial pid=11305)\u001B[0m [2022-11-03 20:05:04,750] [paddlets.models.common.callbacks.callbacks] [INFO] Best weights from best epoch are automatically used!\n"
     ]
    },
    {
     "data": {
      "text/html": [
       "== Status ==<br>Current time: 2022-11-03 20:05:04 (running for 00:02:12.44)<br>Memory usage on this node: 24.9/187.6 GiB<br>Using FIFO scheduling algorithm.<br>Resources requested: 1.0/56 CPUs, 0/0 GPUs, 0.0/116.57 GiB heap, 0.0/53.95 GiB objects<br>Result logdir: /home/work/ray_results/run_trial_2022-11-03_20-02-51<br>Number of trials: 1/1 (1 RUNNING)<br><table>\n",
       "<thead>\n",
       "<tr><th>Trial name        </th><th>status  </th><th>loc               </th><th style=\"text-align: right;\">  batch_size</th><th>hidden_config  </th><th style=\"text-align: right;\">  max_epochs</th><th style=\"text-align: right;\">  optimizer_params/learning_rate</th><th style=\"text-align: right;\">  patience</th><th>use_bn  </th></tr>\n",
       "</thead>\n",
       "<tbody>\n",
       "<tr><td>run_trial_71ac71fc</td><td>RUNNING </td><td>10.182.62.13:11305</td><td style=\"text-align: right;\">          56</td><td>Choice_3: [128]</td><td style=\"text-align: right;\">          60</td><td style=\"text-align: right;\">                      0.00449983</td><td style=\"text-align: right;\">        40</td><td>False   </td></tr>\n",
       "</tbody>\n",
       "</table><br><br>"
      ],
      "text/plain": [
       "<IPython.core.display.HTML object>"
      ]
     },
     "metadata": {},
     "output_type": "display_data"
    },
    {
     "data": {
      "text/html": [
       "== Status ==<br>Current time: 2022-11-03 20:05:09 (running for 00:02:17.44)<br>Memory usage on this node: 25.0/187.6 GiB<br>Using FIFO scheduling algorithm.<br>Resources requested: 1.0/56 CPUs, 0/0 GPUs, 0.0/116.57 GiB heap, 0.0/53.95 GiB objects<br>Result logdir: /home/work/ray_results/run_trial_2022-11-03_20-02-51<br>Number of trials: 1/1 (1 RUNNING)<br><table>\n",
       "<thead>\n",
       "<tr><th>Trial name        </th><th>status  </th><th>loc               </th><th style=\"text-align: right;\">  batch_size</th><th>hidden_config  </th><th style=\"text-align: right;\">  max_epochs</th><th style=\"text-align: right;\">  optimizer_params/learning_rate</th><th style=\"text-align: right;\">  patience</th><th>use_bn  </th></tr>\n",
       "</thead>\n",
       "<tbody>\n",
       "<tr><td>run_trial_71ac71fc</td><td>RUNNING </td><td>10.182.62.13:11305</td><td style=\"text-align: right;\">          56</td><td>Choice_3: [128]</td><td style=\"text-align: right;\">          60</td><td style=\"text-align: right;\">                      0.00449983</td><td style=\"text-align: right;\">        40</td><td>False   </td></tr>\n",
       "</tbody>\n",
       "</table><br><br>"
      ],
      "text/plain": [
       "<IPython.core.display.HTML object>"
      ]
     },
     "metadata": {},
     "output_type": "display_data"
    },
    {
     "data": {
      "text/html": [
       "== Status ==<br>Current time: 2022-11-03 20:05:14 (running for 00:02:22.46)<br>Memory usage on this node: 25.0/187.6 GiB<br>Using FIFO scheduling algorithm.<br>Resources requested: 1.0/56 CPUs, 0/0 GPUs, 0.0/116.57 GiB heap, 0.0/53.95 GiB objects<br>Result logdir: /home/work/ray_results/run_trial_2022-11-03_20-02-51<br>Number of trials: 1/1 (1 RUNNING)<br><table>\n",
       "<thead>\n",
       "<tr><th>Trial name        </th><th>status  </th><th>loc               </th><th style=\"text-align: right;\">  batch_size</th><th>hidden_config  </th><th style=\"text-align: right;\">  max_epochs</th><th style=\"text-align: right;\">  optimizer_params/learning_rate</th><th style=\"text-align: right;\">  patience</th><th>use_bn  </th></tr>\n",
       "</thead>\n",
       "<tbody>\n",
       "<tr><td>run_trial_71ac71fc</td><td>RUNNING </td><td>10.182.62.13:11305</td><td style=\"text-align: right;\">          56</td><td>Choice_3: [128]</td><td style=\"text-align: right;\">          60</td><td style=\"text-align: right;\">                      0.00449983</td><td style=\"text-align: right;\">        40</td><td>False   </td></tr>\n",
       "</tbody>\n",
       "</table><br><br>"
      ],
      "text/plain": [
       "<IPython.core.display.HTML object>"
      ]
     },
     "metadata": {},
     "output_type": "display_data"
    },
    {
     "data": {
      "text/html": [
       "== Status ==<br>Current time: 2022-11-03 20:05:19 (running for 00:02:27.46)<br>Memory usage on this node: 25.0/187.6 GiB<br>Using FIFO scheduling algorithm.<br>Resources requested: 1.0/56 CPUs, 0/0 GPUs, 0.0/116.57 GiB heap, 0.0/53.95 GiB objects<br>Result logdir: /home/work/ray_results/run_trial_2022-11-03_20-02-51<br>Number of trials: 1/1 (1 RUNNING)<br><table>\n",
       "<thead>\n",
       "<tr><th>Trial name        </th><th>status  </th><th>loc               </th><th style=\"text-align: right;\">  batch_size</th><th>hidden_config  </th><th style=\"text-align: right;\">  max_epochs</th><th style=\"text-align: right;\">  optimizer_params/learning_rate</th><th style=\"text-align: right;\">  patience</th><th>use_bn  </th></tr>\n",
       "</thead>\n",
       "<tbody>\n",
       "<tr><td>run_trial_71ac71fc</td><td>RUNNING </td><td>10.182.62.13:11305</td><td style=\"text-align: right;\">          56</td><td>Choice_3: [128]</td><td style=\"text-align: right;\">          60</td><td style=\"text-align: right;\">                      0.00449983</td><td style=\"text-align: right;\">        40</td><td>False   </td></tr>\n",
       "</tbody>\n",
       "</table><br><br>"
      ],
      "text/plain": [
       "<IPython.core.display.HTML object>"
      ]
     },
     "metadata": {},
     "output_type": "display_data"
    },
    {
     "data": {
      "text/html": [
       "== Status ==<br>Current time: 2022-11-03 20:05:24 (running for 00:02:32.47)<br>Memory usage on this node: 24.9/187.6 GiB<br>Using FIFO scheduling algorithm.<br>Resources requested: 1.0/56 CPUs, 0/0 GPUs, 0.0/116.57 GiB heap, 0.0/53.95 GiB objects<br>Result logdir: /home/work/ray_results/run_trial_2022-11-03_20-02-51<br>Number of trials: 1/1 (1 RUNNING)<br><table>\n",
       "<thead>\n",
       "<tr><th>Trial name        </th><th>status  </th><th>loc               </th><th style=\"text-align: right;\">  batch_size</th><th>hidden_config  </th><th style=\"text-align: right;\">  max_epochs</th><th style=\"text-align: right;\">  optimizer_params/learning_rate</th><th style=\"text-align: right;\">  patience</th><th>use_bn  </th></tr>\n",
       "</thead>\n",
       "<tbody>\n",
       "<tr><td>run_trial_71ac71fc</td><td>RUNNING </td><td>10.182.62.13:11305</td><td style=\"text-align: right;\">          56</td><td>Choice_3: [128]</td><td style=\"text-align: right;\">          60</td><td style=\"text-align: right;\">                      0.00449983</td><td style=\"text-align: right;\">        40</td><td>False   </td></tr>\n",
       "</tbody>\n",
       "</table><br><br>"
      ],
      "text/plain": [
       "<IPython.core.display.HTML object>"
      ]
     },
     "metadata": {},
     "output_type": "display_data"
    },
    {
     "data": {
      "text/html": [
       "== Status ==<br>Current time: 2022-11-03 20:05:29 (running for 00:02:37.48)<br>Memory usage on this node: 25.0/187.6 GiB<br>Using FIFO scheduling algorithm.<br>Resources requested: 1.0/56 CPUs, 0/0 GPUs, 0.0/116.57 GiB heap, 0.0/53.95 GiB objects<br>Result logdir: /home/work/ray_results/run_trial_2022-11-03_20-02-51<br>Number of trials: 1/1 (1 RUNNING)<br><table>\n",
       "<thead>\n",
       "<tr><th>Trial name        </th><th>status  </th><th>loc               </th><th style=\"text-align: right;\">  batch_size</th><th>hidden_config  </th><th style=\"text-align: right;\">  max_epochs</th><th style=\"text-align: right;\">  optimizer_params/learning_rate</th><th style=\"text-align: right;\">  patience</th><th>use_bn  </th></tr>\n",
       "</thead>\n",
       "<tbody>\n",
       "<tr><td>run_trial_71ac71fc</td><td>RUNNING </td><td>10.182.62.13:11305</td><td style=\"text-align: right;\">          56</td><td>Choice_3: [128]</td><td style=\"text-align: right;\">          60</td><td style=\"text-align: right;\">                      0.00449983</td><td style=\"text-align: right;\">        40</td><td>False   </td></tr>\n",
       "</tbody>\n",
       "</table><br><br>"
      ],
      "text/plain": [
       "<IPython.core.display.HTML object>"
      ]
     },
     "metadata": {},
     "output_type": "display_data"
    },
    {
     "data": {
      "text/html": [
       "== Status ==<br>Current time: 2022-11-03 20:05:34 (running for 00:02:42.49)<br>Memory usage on this node: 25.0/187.6 GiB<br>Using FIFO scheduling algorithm.<br>Resources requested: 1.0/56 CPUs, 0/0 GPUs, 0.0/116.57 GiB heap, 0.0/53.95 GiB objects<br>Result logdir: /home/work/ray_results/run_trial_2022-11-03_20-02-51<br>Number of trials: 1/1 (1 RUNNING)<br><table>\n",
       "<thead>\n",
       "<tr><th>Trial name        </th><th>status  </th><th>loc               </th><th style=\"text-align: right;\">  batch_size</th><th>hidden_config  </th><th style=\"text-align: right;\">  max_epochs</th><th style=\"text-align: right;\">  optimizer_params/learning_rate</th><th style=\"text-align: right;\">  patience</th><th>use_bn  </th></tr>\n",
       "</thead>\n",
       "<tbody>\n",
       "<tr><td>run_trial_71ac71fc</td><td>RUNNING </td><td>10.182.62.13:11305</td><td style=\"text-align: right;\">          56</td><td>Choice_3: [128]</td><td style=\"text-align: right;\">          60</td><td style=\"text-align: right;\">                      0.00449983</td><td style=\"text-align: right;\">        40</td><td>False   </td></tr>\n",
       "</tbody>\n",
       "</table><br><br>"
      ],
      "text/plain": [
       "<IPython.core.display.HTML object>"
      ]
     },
     "metadata": {},
     "output_type": "display_data"
    },
    {
     "name": "stdout",
     "output_type": "stream",
     "text": [
      "Result for run_trial_71ac71fc:\n",
      "  date: 2022-11-03_20-05-36\n",
      "  done: false\n",
      "  experiment_id: 4d226194803a4dd89f3e557c762a86ca\n",
      "  hostname: yq01-m42-xi4-25-for-other-luanwei-863588.yq01.baidu.com\n",
      "  iterations_since_restore: 1\n",
      "  loss: 0.6750041246414185\n",
      "  node_ip: 10.182.62.13\n",
      "  pid: 11305\n",
      "  time_since_restore: 157.33996558189392\n",
      "  time_this_iter_s: 157.33996558189392\n",
      "  time_total_s: 157.33996558189392\n",
      "  timestamp: 1667477136\n",
      "  timesteps_since_restore: 0\n",
      "  training_iteration: 1\n",
      "  trial_id: 71ac71fc\n",
      "  warmup_time: 0.005208730697631836\n",
      "  \n",
      "Result for run_trial_71ac71fc:\n",
      "  date: 2022-11-03_20-05-36\n",
      "  done: true\n",
      "  experiment_id: 4d226194803a4dd89f3e557c762a86ca\n",
      "  experiment_tag: 1_batch_size=56,hidden_config=Choice_3_128,max_epochs=60,learning_rate=0.0045,patience=40,use_bn=False\n",
      "  hostname: yq01-m42-xi4-25-for-other-luanwei-863588.yq01.baidu.com\n",
      "  iterations_since_restore: 1\n",
      "  loss: 0.6750041246414185\n",
      "  node_ip: 10.182.62.13\n",
      "  pid: 11305\n",
      "  time_since_restore: 157.33996558189392\n",
      "  time_this_iter_s: 157.33996558189392\n",
      "  time_total_s: 157.33996558189392\n",
      "  timestamp: 1667477136\n",
      "  timesteps_since_restore: 0\n",
      "  training_iteration: 1\n",
      "  trial_id: 71ac71fc\n",
      "  warmup_time: 0.005208730697631836\n",
      "  \n"
     ]
    },
    {
     "data": {
      "text/html": [
       "== Status ==<br>Current time: 2022-11-03 20:05:36 (running for 00:02:44.52)<br>Memory usage on this node: 25.0/187.6 GiB<br>Using FIFO scheduling algorithm.<br>Resources requested: 0/56 CPUs, 0/0 GPUs, 0.0/116.57 GiB heap, 0.0/53.95 GiB objects<br>Current best trial: 71ac71fc with loss=0.6750041246414185 and parameters={'hidden_config': 'Choice_3: [128]', 'use_bn': False, 'batch_size': 56, 'max_epochs': 60, 'optimizer_params': {'learning_rate': 0.004499832883384026}, 'patience': 40}<br>Result logdir: /home/work/ray_results/run_trial_2022-11-03_20-02-51<br>Number of trials: 1/1 (1 TERMINATED)<br><table>\n",
       "<thead>\n",
       "<tr><th>Trial name        </th><th>status    </th><th>loc               </th><th style=\"text-align: right;\">  batch_size</th><th>hidden_config  </th><th style=\"text-align: right;\">  max_epochs</th><th style=\"text-align: right;\">  optimizer_params/learning_rate</th><th style=\"text-align: right;\">  patience</th><th>use_bn  </th><th style=\"text-align: right;\">  iter</th><th style=\"text-align: right;\">  total time (s)</th><th style=\"text-align: right;\">    loss</th></tr>\n",
       "</thead>\n",
       "<tbody>\n",
       "<tr><td>run_trial_71ac71fc</td><td>TERMINATED</td><td>10.182.62.13:11305</td><td style=\"text-align: right;\">          56</td><td>Choice_3: [128]</td><td style=\"text-align: right;\">          60</td><td style=\"text-align: right;\">                      0.00449983</td><td style=\"text-align: right;\">        40</td><td>False   </td><td style=\"text-align: right;\">     1</td><td style=\"text-align: right;\">          157.34</td><td style=\"text-align: right;\">0.675004</td></tr>\n",
       "</tbody>\n",
       "</table><br><br>"
      ],
      "text/plain": [
       "<IPython.core.display.HTML object>"
      ]
     },
     "metadata": {},
     "output_type": "display_data"
    },
    {
     "name": "stderr",
     "output_type": "stream",
     "text": [
      "2022-11-03 20:05:37,090\tINFO tune.py:748 -- Total run time: 165.31 seconds (164.51 seconds for the tuning loop).\n",
      "[2022-11-03 20:05:37,102] [paddlets.automl.autots] [INFO] AutoTS: start refit\n",
      "[2022-11-03 20:05:37,103] [paddlets.automl.optimize_runner] [INFO] setup_estimator: init model. Params: {'hidden_config': [128], 'use_bn': False, 'batch_size': 56, 'max_epochs': 60, 'optimizer_params': {'learning_rate': 0.004499832883384026}, 'patience': 40, 'in_chunk_len': 96, 'out_chunk_len': 2, 'skip_chunk_len': 0, 'sampling_stride': 1, 'seed': 2022}\n",
      "[2022-11-03 20:05:39,823] [paddlets.models.common.callbacks.callbacks] [INFO] epoch 000| loss: 2.879014| val_0_mae: 1.180042| 0:00:02s\n",
      "[2022-11-03 20:05:41,681] [paddlets.models.common.callbacks.callbacks] [INFO] epoch 001| loss: 1.190439| val_0_mae: 0.856322| 0:00:04s\n",
      "[2022-11-03 20:05:43,801] [paddlets.models.common.callbacks.callbacks] [INFO] epoch 002| loss: 1.037609| val_0_mae: 0.884753| 0:00:06s\n",
      "[2022-11-03 20:05:45,881] [paddlets.models.common.callbacks.callbacks] [INFO] epoch 003| loss: 0.965131| val_0_mae: 0.736054| 0:00:08s\n",
      "[2022-11-03 20:05:47,870] [paddlets.models.common.callbacks.callbacks] [INFO] epoch 004| loss: 0.938472| val_0_mae: 0.921449| 0:00:10s\n",
      "[2022-11-03 20:05:49,881] [paddlets.models.common.callbacks.callbacks] [INFO] epoch 005| loss: 0.893727| val_0_mae: 0.737705| 0:00:12s\n",
      "[2022-11-03 20:05:51,950] [paddlets.models.common.callbacks.callbacks] [INFO] epoch 006| loss: 0.900467| val_0_mae: 0.717714| 0:00:14s\n",
      "[2022-11-03 20:05:54,076] [paddlets.models.common.callbacks.callbacks] [INFO] epoch 007| loss: 0.899785| val_0_mae: 0.830245| 0:00:16s\n",
      "[2022-11-03 20:05:56,265] [paddlets.models.common.callbacks.callbacks] [INFO] epoch 008| loss: 0.893208| val_0_mae: 0.717217| 0:00:18s\n",
      "[2022-11-03 20:05:58,292] [paddlets.models.common.callbacks.callbacks] [INFO] epoch 009| loss: 0.903518| val_0_mae: 0.714991| 0:00:20s\n",
      "[2022-11-03 20:06:00,331] [paddlets.models.common.callbacks.callbacks] [INFO] epoch 010| loss: 0.895839| val_0_mae: 0.717929| 0:00:22s\n",
      "[2022-11-03 20:06:02,337] [paddlets.models.common.callbacks.callbacks] [INFO] epoch 011| loss: 0.844658| val_0_mae: 0.683124| 0:00:24s\n",
      "[2022-11-03 20:06:04,466] [paddlets.models.common.callbacks.callbacks] [INFO] epoch 012| loss: 0.873848| val_0_mae: 0.779230| 0:00:26s\n",
      "[2022-11-03 20:06:06,567] [paddlets.models.common.callbacks.callbacks] [INFO] epoch 013| loss: 0.866765| val_0_mae: 0.785441| 0:00:28s\n",
      "[2022-11-03 20:06:08,610] [paddlets.models.common.callbacks.callbacks] [INFO] epoch 014| loss: 0.825158| val_0_mae: 0.716181| 0:00:30s\n",
      "[2022-11-03 20:06:10,586] [paddlets.models.common.callbacks.callbacks] [INFO] epoch 015| loss: 0.851418| val_0_mae: 0.720385| 0:00:32s\n",
      "[2022-11-03 20:06:12,618] [paddlets.models.common.callbacks.callbacks] [INFO] epoch 016| loss: 0.856559| val_0_mae: 0.737225| 0:00:34s\n",
      "[2022-11-03 20:06:14,617] [paddlets.models.common.callbacks.callbacks] [INFO] epoch 017| loss: 0.841112| val_0_mae: 0.710532| 0:00:36s\n",
      "[2022-11-03 20:06:16,590] [paddlets.models.common.callbacks.callbacks] [INFO] epoch 018| loss: 0.842069| val_0_mae: 0.688445| 0:00:38s\n",
      "[2022-11-03 20:06:18,627] [paddlets.models.common.callbacks.callbacks] [INFO] epoch 019| loss: 0.819276| val_0_mae: 0.701369| 0:00:40s\n",
      "[2022-11-03 20:06:20,767] [paddlets.models.common.callbacks.callbacks] [INFO] epoch 020| loss: 0.843693| val_0_mae: 0.772277| 0:00:43s\n",
      "[2022-11-03 20:06:22,763] [paddlets.models.common.callbacks.callbacks] [INFO] epoch 021| loss: 0.869094| val_0_mae: 0.720203| 0:00:45s\n",
      "[2022-11-03 20:06:24,841] [paddlets.models.common.callbacks.callbacks] [INFO] epoch 022| loss: 0.810070| val_0_mae: 0.746475| 0:00:47s\n",
      "[2022-11-03 20:06:26,936] [paddlets.models.common.callbacks.callbacks] [INFO] epoch 023| loss: 0.800254| val_0_mae: 0.713044| 0:00:49s\n",
      "[2022-11-03 20:06:28,764] [paddlets.models.common.callbacks.callbacks] [INFO] epoch 024| loss: 0.816145| val_0_mae: 0.713774| 0:00:51s\n",
      "[2022-11-03 20:06:30,939] [paddlets.models.common.callbacks.callbacks] [INFO] epoch 025| loss: 0.811832| val_0_mae: 0.920847| 0:00:53s\n",
      "[2022-11-03 20:06:33,149] [paddlets.models.common.callbacks.callbacks] [INFO] epoch 026| loss: 0.835834| val_0_mae: 0.686463| 0:00:55s\n",
      "[2022-11-03 20:06:35,326] [paddlets.models.common.callbacks.callbacks] [INFO] epoch 027| loss: 0.836537| val_0_mae: 0.684635| 0:00:57s\n",
      "[2022-11-03 20:06:37,246] [paddlets.models.common.callbacks.callbacks] [INFO] epoch 028| loss: 0.800375| val_0_mae: 0.712807| 0:00:59s\n",
      "[2022-11-03 20:06:39,135] [paddlets.models.common.callbacks.callbacks] [INFO] epoch 029| loss: 0.821158| val_0_mae: 0.693521| 0:01:01s\n",
      "[2022-11-03 20:06:41,058] [paddlets.models.common.callbacks.callbacks] [INFO] epoch 030| loss: 0.800734| val_0_mae: 0.775108| 0:01:03s\n",
      "[2022-11-03 20:06:43,280] [paddlets.models.common.callbacks.callbacks] [INFO] epoch 031| loss: 0.811719| val_0_mae: 0.687059| 0:01:05s\n",
      "[2022-11-03 20:06:45,307] [paddlets.models.common.callbacks.callbacks] [INFO] epoch 032| loss: 0.811896| val_0_mae: 0.710918| 0:01:07s\n",
      "[2022-11-03 20:06:47,232] [paddlets.models.common.callbacks.callbacks] [INFO] epoch 033| loss: 0.840717| val_0_mae: 0.670342| 0:01:09s\n",
      "[2022-11-03 20:06:49,264] [paddlets.models.common.callbacks.callbacks] [INFO] epoch 034| loss: 0.797724| val_0_mae: 0.833523| 0:01:11s\n",
      "[2022-11-03 20:06:51,365] [paddlets.models.common.callbacks.callbacks] [INFO] epoch 035| loss: 0.816225| val_0_mae: 0.677822| 0:01:13s\n",
      "[2022-11-03 20:06:53,547] [paddlets.models.common.callbacks.callbacks] [INFO] epoch 036| loss: 0.771661| val_0_mae: 0.794742| 0:01:15s\n",
      "[2022-11-03 20:06:55,777] [paddlets.models.common.callbacks.callbacks] [INFO] epoch 037| loss: 0.800361| val_0_mae: 0.689995| 0:01:18s\n",
      "[2022-11-03 20:06:57,872] [paddlets.models.common.callbacks.callbacks] [INFO] epoch 038| loss: 0.797602| val_0_mae: 0.704063| 0:01:20s\n",
      "[2022-11-03 20:06:59,964] [paddlets.models.common.callbacks.callbacks] [INFO] epoch 039| loss: 0.809622| val_0_mae: 0.681782| 0:01:22s\n",
      "[2022-11-03 20:07:02,076] [paddlets.models.common.callbacks.callbacks] [INFO] epoch 040| loss: 0.803798| val_0_mae: 0.761468| 0:01:24s\n",
      "[2022-11-03 20:07:04,045] [paddlets.models.common.callbacks.callbacks] [INFO] epoch 041| loss: 0.808688| val_0_mae: 0.681566| 0:01:26s\n",
      "[2022-11-03 20:07:06,022] [paddlets.models.common.callbacks.callbacks] [INFO] epoch 042| loss: 0.784083| val_0_mae: 0.692048| 0:01:28s\n",
      "[2022-11-03 20:07:07,855] [paddlets.models.common.callbacks.callbacks] [INFO] epoch 043| loss: 0.793134| val_0_mae: 0.681048| 0:01:30s\n",
      "[2022-11-03 20:07:09,588] [paddlets.models.common.callbacks.callbacks] [INFO] epoch 044| loss: 0.793578| val_0_mae: 0.701056| 0:01:31s\n",
      "[2022-11-03 20:07:11,466] [paddlets.models.common.callbacks.callbacks] [INFO] epoch 045| loss: 0.786553| val_0_mae: 0.714127| 0:01:33s\n",
      "[2022-11-03 20:07:13,525] [paddlets.models.common.callbacks.callbacks] [INFO] epoch 046| loss: 0.788428| val_0_mae: 0.692608| 0:01:35s\n",
      "[2022-11-03 20:07:15,543] [paddlets.models.common.callbacks.callbacks] [INFO] epoch 047| loss: 0.811385| val_0_mae: 0.741520| 0:01:37s\n",
      "[2022-11-03 20:07:17,615] [paddlets.models.common.callbacks.callbacks] [INFO] epoch 048| loss: 0.795043| val_0_mae: 0.940152| 0:01:39s\n",
      "[2022-11-03 20:07:19,709] [paddlets.models.common.callbacks.callbacks] [INFO] epoch 049| loss: 0.794821| val_0_mae: 0.688028| 0:01:42s\n",
      "[2022-11-03 20:07:21,675] [paddlets.models.common.callbacks.callbacks] [INFO] epoch 050| loss: 0.783652| val_0_mae: 0.669254| 0:01:44s\n",
      "[2022-11-03 20:07:23,545] [paddlets.models.common.callbacks.callbacks] [INFO] epoch 051| loss: 0.799334| val_0_mae: 0.683096| 0:01:45s\n",
      "[2022-11-03 20:07:25,549] [paddlets.models.common.callbacks.callbacks] [INFO] epoch 052| loss: 0.781427| val_0_mae: 0.766002| 0:01:47s\n",
      "[2022-11-03 20:07:27,686] [paddlets.models.common.callbacks.callbacks] [INFO] epoch 053| loss: 0.794419| val_0_mae: 0.684956| 0:01:50s\n",
      "[2022-11-03 20:07:29,885] [paddlets.models.common.callbacks.callbacks] [INFO] epoch 054| loss: 0.772953| val_0_mae: 0.688746| 0:01:52s\n",
      "[2022-11-03 20:07:31,834] [paddlets.models.common.callbacks.callbacks] [INFO] epoch 055| loss: 0.774541| val_0_mae: 0.695087| 0:01:54s\n",
      "[2022-11-03 20:07:33,990] [paddlets.models.common.callbacks.callbacks] [INFO] epoch 056| loss: 0.814280| val_0_mae: 0.690868| 0:01:56s\n",
      "[2022-11-03 20:07:36,029] [paddlets.models.common.callbacks.callbacks] [INFO] epoch 057| loss: 0.772139| val_0_mae: 0.682662| 0:01:58s\n",
      "[2022-11-03 20:07:38,095] [paddlets.models.common.callbacks.callbacks] [INFO] epoch 058| loss: 0.765384| val_0_mae: 0.686509| 0:02:00s\n",
      "[2022-11-03 20:07:40,073] [paddlets.models.common.callbacks.callbacks] [INFO] epoch 059| loss: 0.771844| val_0_mae: 0.732019| 0:02:02s\n",
      "[2022-11-03 20:07:40,075] [paddlets.models.common.callbacks.callbacks] [INFO] Stop training because you reached max_epochs = 60 with best_epoch = 50 and best_val_0_mae = 0.669254\n",
      "[2022-11-03 20:07:40,076] [paddlets.models.common.callbacks.callbacks] [INFO] Best weights from best epoch are automatically used!\n",
      "[2022-11-03 20:07:40,092] [paddlets.automl.autots] [INFO] AutoTS: refitted\n"
     ]
    },
    {
     "data": {
      "text/plain": [
       "<paddlets.models.forecasting.dl.mlp.MLPRegressor at 0x7f014d20dfd0>"
      ]
     },
     "execution_count": 2,
     "metadata": {},
     "output_type": "execute_result"
    }
   ],
   "source": [
    "from paddlets.models.forecasting import MLPRegressor\n",
    "from paddlets.automl.autots import AutoTS\n",
    "autots_model = AutoTS(MLPRegressor, 96, 2)\n",
    "autots_model.fit(tsdataset, n_trials=1)"
   ]
  },
  {
   "cell_type": "markdown",
   "id": "fe17caee",
   "metadata": {},
   "source": [
    "## 3. 搜索空间\n",
    "对于超参数优化来说，你可以定义一个搜索空间。如果你没有指定一个搜索空间，我们也为每个 PaddleTS 模型内置了推荐的默认搜索空间。\n",
    "\n",
    "你可以利用搜索空间去控制你的超参的取值是如何采样的，控制值范围是多少。\n",
    "\n",
    "下面是一个指定了搜索空间的 autots pipeline 的例子："
   ]
  },
  {
   "cell_type": "code",
   "execution_count": 3,
   "id": "ef2f9af5",
   "metadata": {},
   "outputs": [
    {
     "name": "stderr",
     "output_type": "stream",
     "text": [
      "\u001B[32m[I 2022-11-03 20:07:40,140]\u001B[0m A new study created in memory with name: optuna\u001B[0m\n",
      "\u001B[2m\u001B[36m(pid=26976)\u001B[0m /home/work/anaconda3/envs/py37/lib/python3.7/site-packages/statsmodels/compat/pandas.py:12: DeprecationWarning: distutils Version classes are deprecated. Use packaging.version instead.\n",
      "\u001B[2m\u001B[36m(pid=26976)\u001B[0m   version = LooseVersion(pd.__version__)\n",
      "\u001B[2m\u001B[36m(pid=26976)\u001B[0m /home/work/anaconda3/envs/py37/lib/python3.7/site-packages/statsmodels/compat/pandas.py:14: DeprecationWarning: distutils Version classes are deprecated. Use packaging.version instead.\n",
      "\u001B[2m\u001B[36m(pid=26976)\u001B[0m   pandas_lt_1_0_0 = version < LooseVersion('1.0.0')\n",
      "\u001B[2m\u001B[36m(pid=26976)\u001B[0m /home/work/anaconda3/envs/py37/lib/python3.7/site-packages/statsmodels/compat/pandas.py:15: DeprecationWarning: distutils Version classes are deprecated. Use packaging.version instead.\n",
      "\u001B[2m\u001B[36m(pid=26976)\u001B[0m   pandas_lt_25_0 = version < LooseVersion('0.25.0')\n",
      "\u001B[2m\u001B[36m(pid=26976)\u001B[0m /home/work/anaconda3/envs/py37/lib/python3.7/site-packages/statsmodels/compat/pandas.py:16: DeprecationWarning: distutils Version classes are deprecated. Use packaging.version instead.\n",
      "\u001B[2m\u001B[36m(pid=26976)\u001B[0m   pandas_gte_23_0 = version >= LooseVersion('0.23.0')\n",
      "\u001B[2m\u001B[36m(pid=26976)\u001B[0m /home/work/anaconda3/envs/py37/lib/python3.7/site-packages/statsmodels/compat/scipy.py:6: DeprecationWarning: distutils Version classes are deprecated. Use packaging.version instead.\n",
      "\u001B[2m\u001B[36m(pid=26976)\u001B[0m   SP_VERSION = LooseVersion(scipy.__version__)\n",
      "\u001B[2m\u001B[36m(pid=26976)\u001B[0m /home/work/anaconda3/envs/py37/lib/python3.7/site-packages/statsmodels/compat/scipy.py:7: DeprecationWarning: distutils Version classes are deprecated. Use packaging.version instead.\n",
      "\u001B[2m\u001B[36m(pid=26976)\u001B[0m   SCIPY_11 = SP_VERSION < LooseVersion(\"1.2.0\")\n",
      "\u001B[2m\u001B[36m(pid=26976)\u001B[0m /home/work/anaconda3/envs/py37/lib/python3.7/site-packages/statsmodels/compat/scipy.py:10: DeprecationWarning: distutils Version classes are deprecated. Use packaging.version instead.\n",
      "\u001B[2m\u001B[36m(pid=26976)\u001B[0m   SCIPY_GT_14 = SP_VERSION >= LooseVersion(\"1.5\")\n",
      "\u001B[2m\u001B[36m(pid=26976)\u001B[0m /home/work/anaconda3/envs/py37/lib/python3.7/site-packages/statsmodels/compat/scipy.py:11: DeprecationWarning: distutils Version classes are deprecated. Use packaging.version instead.\n",
      "\u001B[2m\u001B[36m(pid=26976)\u001B[0m   SP_LT_15 = SP_VERSION < LooseVersion(\"1.5\")\n",
      "\u001B[2m\u001B[36m(pid=26976)\u001B[0m /home/work/anaconda3/envs/py37/lib/python3.7/site-packages/statsmodels/compat/numpy.py:46: DeprecationWarning: distutils Version classes are deprecated. Use packaging.version instead.\n",
      "\u001B[2m\u001B[36m(pid=26976)\u001B[0m   NP_LT_114 = LooseVersion(np.__version__) < LooseVersion('1.14')\n",
      "\u001B[2m\u001B[36m(pid=26976)\u001B[0m /home/work/anaconda3/envs/py37/lib/python3.7/site-packages/seaborn/rcmod.py:82: DeprecationWarning: distutils Version classes are deprecated. Use packaging.version instead.\n",
      "\u001B[2m\u001B[36m(pid=26976)\u001B[0m   if LooseVersion(mpl.__version__) >= \"3.0\":\n",
      "\u001B[2m\u001B[36m(pid=26976)\u001B[0m /home/work/anaconda3/envs/py37/lib/python3.7/site-packages/setuptools/_distutils/version.py:351: DeprecationWarning: distutils Version classes are deprecated. Use packaging.version instead.\n",
      "\u001B[2m\u001B[36m(pid=26976)\u001B[0m   other = LooseVersion(other)\n"
     ]
    },
    {
     "data": {
      "text/html": [
       "== Status ==<br>Current time: 2022-11-03 20:07:47 (running for 00:00:07.19)<br>Memory usage on this node: 25.0/187.6 GiB<br>Using FIFO scheduling algorithm.<br>Resources requested: 1.0/56 CPUs, 0/0 GPUs, 0.0/116.57 GiB heap, 0.0/53.95 GiB objects<br>Result logdir: /home/work/ray_results/run_trial_2022-11-03_20-07-40<br>Number of trials: 1/1 (1 RUNNING)<br><table>\n",
       "<thead>\n",
       "<tr><th>Trial name        </th><th>status  </th><th>loc               </th><th>Fill/method  </th><th style=\"text-align: right;\">  Fill/value</th><th style=\"text-align: right;\">  Fill/window_size</th><th style=\"text-align: right;\">  MLPRegressor/batch_size</th><th style=\"text-align: right;\">  MLPRegressor/max_epochs</th><th>MLPRegressor/use_bn  </th></tr>\n",
       "</thead>\n",
       "<tbody>\n",
       "<tr><td>run_trial_1d1fb81e</td><td>RUNNING </td><td>10.182.62.13:26976</td><td>zero         </td><td style=\"text-align: right;\">    0.589486</td><td style=\"text-align: right;\">                29</td><td style=\"text-align: right;\">                       32</td><td style=\"text-align: right;\">                       50</td><td>False                </td></tr>\n",
       "</tbody>\n",
       "</table><br><br>"
      ],
      "text/plain": [
       "<IPython.core.display.HTML object>"
      ]
     },
     "metadata": {},
     "output_type": "display_data"
    },
    {
     "name": "stderr",
     "output_type": "stream",
     "text": [
      "\u001B[2m\u001B[36m(run_trial pid=26976)\u001B[0m [2022-11-03 20:07:47,328] [paddlets.automl.optimize_runner] [INFO] trial config: {'Fill': {'cols': ['WetBulbCelsius'], 'method': 'zero', 'value': 0.5894864023664573, 'window_size': 29}, 'MLPRegressor': {'batch_size': 32, 'use_bn': False, 'max_epochs': 50}}\n",
      "\u001B[2m\u001B[36m(run_trial pid=26976)\u001B[0m [2022-11-03 20:07:47,330] [paddlets.automl.optimize_runner] [INFO] setup_estimator: init pipeline. Params: [(<class 'paddlets.transform.fill.Fill'>, {'cols': ['WetBulbCelsius'], 'method': 'zero', 'value': 0.5894864023664573, 'window_size': 29}), (<class 'paddlets.models.forecasting.dl.mlp.MLPRegressor'>, {'batch_size': 32, 'use_bn': False, 'max_epochs': 50, 'in_chunk_len': 25, 'out_chunk_len': 2, 'skip_chunk_len': 0, 'sampling_stride': 25, 'seed': 2022})]\n",
      "\u001B[2m\u001B[36m(run_trial pid=26976)\u001B[0m [2022-11-03 20:07:47,599] [paddlets.models.common.callbacks.callbacks] [INFO] epoch 000| loss: 7.908529| val_0_mae: 1.541964| 0:00:00s\n",
      "\u001B[2m\u001B[36m(run_trial pid=26976)\u001B[0m [2022-11-03 20:07:47,740] [paddlets.models.common.callbacks.callbacks] [INFO] epoch 001| loss: 3.108426| val_0_mae: 1.432839| 0:00:00s\n",
      "\u001B[2m\u001B[36m(run_trial pid=26976)\u001B[0m [2022-11-03 20:07:47,860] [paddlets.models.common.callbacks.callbacks] [INFO] epoch 002| loss: 2.580812| val_0_mae: 1.346084| 0:00:00s\n",
      "\u001B[2m\u001B[36m(run_trial pid=26976)\u001B[0m [2022-11-03 20:07:47,974] [paddlets.models.common.callbacks.callbacks] [INFO] epoch 003| loss: 2.286300| val_0_mae: 1.263468| 0:00:00s\n",
      "\u001B[2m\u001B[36m(run_trial pid=26976)\u001B[0m [2022-11-03 20:07:48,077] [paddlets.models.common.callbacks.callbacks] [INFO] epoch 004| loss: 2.073156| val_0_mae: 1.230946| 0:00:00s\n",
      "\u001B[2m\u001B[36m(run_trial pid=26976)\u001B[0m [2022-11-03 20:07:48,185] [paddlets.models.common.callbacks.callbacks] [INFO] epoch 005| loss: 1.973557| val_0_mae: 1.135910| 0:00:00s\n",
      "\u001B[2m\u001B[36m(run_trial pid=26976)\u001B[0m [2022-11-03 20:07:48,293] [paddlets.models.common.callbacks.callbacks] [INFO] epoch 006| loss: 1.823020| val_0_mae: 1.089514| 0:00:00s\n",
      "\u001B[2m\u001B[36m(run_trial pid=26976)\u001B[0m [2022-11-03 20:07:48,416] [paddlets.models.common.callbacks.callbacks] [INFO] epoch 007| loss: 1.680403| val_0_mae: 1.120269| 0:00:01s\n",
      "\u001B[2m\u001B[36m(run_trial pid=26976)\u001B[0m [2022-11-03 20:07:48,567] [paddlets.models.common.callbacks.callbacks] [INFO] epoch 008| loss: 1.746629| val_0_mae: 1.014344| 0:00:01s\n",
      "\u001B[2m\u001B[36m(run_trial pid=26976)\u001B[0m [2022-11-03 20:07:48,686] [paddlets.models.common.callbacks.callbacks] [INFO] epoch 009| loss: 1.565648| val_0_mae: 0.978051| 0:00:01s\n",
      "\u001B[2m\u001B[36m(run_trial pid=26976)\u001B[0m [2022-11-03 20:07:48,800] [paddlets.models.common.callbacks.callbacks] [INFO] epoch 010| loss: 1.470595| val_0_mae: 0.954341| 0:00:01s\n",
      "\u001B[2m\u001B[36m(run_trial pid=26976)\u001B[0m [2022-11-03 20:07:48,916] [paddlets.models.common.callbacks.callbacks] [INFO] epoch 011| loss: 1.433827| val_0_mae: 0.989152| 0:00:01s\n",
      "\u001B[2m\u001B[36m(run_trial pid=26976)\u001B[0m [2022-11-03 20:07:49,036] [paddlets.models.common.callbacks.callbacks] [INFO] epoch 012| loss: 1.508983| val_0_mae: 0.974633| 0:00:01s\n",
      "\u001B[2m\u001B[36m(run_trial pid=26976)\u001B[0m [2022-11-03 20:07:49,201] [paddlets.models.common.callbacks.callbacks] [INFO] epoch 013| loss: 1.428862| val_0_mae: 0.974426| 0:00:01s\n",
      "\u001B[2m\u001B[36m(run_trial pid=26976)\u001B[0m [2022-11-03 20:07:49,345] [paddlets.models.common.callbacks.callbacks] [INFO] epoch 014| loss: 1.353620| val_0_mae: 0.903802| 0:00:01s\n",
      "\u001B[2m\u001B[36m(run_trial pid=26976)\u001B[0m [2022-11-03 20:07:49,481] [paddlets.models.common.callbacks.callbacks] [INFO] epoch 015| loss: 1.327556| val_0_mae: 0.934115| 0:00:02s\n",
      "\u001B[2m\u001B[36m(run_trial pid=26976)\u001B[0m [2022-11-03 20:07:49,594] [paddlets.models.common.callbacks.callbacks] [INFO] epoch 016| loss: 1.453763| val_0_mae: 0.888621| 0:00:02s\n",
      "\u001B[2m\u001B[36m(run_trial pid=26976)\u001B[0m [2022-11-03 20:07:49,709] [paddlets.models.common.callbacks.callbacks] [INFO] epoch 017| loss: 1.311903| val_0_mae: 0.911636| 0:00:02s\n",
      "\u001B[2m\u001B[36m(run_trial pid=26976)\u001B[0m [2022-11-03 20:07:49,838] [paddlets.models.common.callbacks.callbacks] [INFO] epoch 018| loss: 1.304593| val_0_mae: 0.899587| 0:00:02s\n",
      "\u001B[2m\u001B[36m(run_trial pid=26976)\u001B[0m [2022-11-03 20:07:49,952] [paddlets.models.common.callbacks.callbacks] [INFO] epoch 019| loss: 1.271601| val_0_mae: 0.890009| 0:00:02s\n",
      "\u001B[2m\u001B[36m(run_trial pid=26976)\u001B[0m [2022-11-03 20:07:50,069] [paddlets.models.common.callbacks.callbacks] [INFO] epoch 020| loss: 1.281823| val_0_mae: 0.900516| 0:00:02s\n",
      "\u001B[2m\u001B[36m(run_trial pid=26976)\u001B[0m [2022-11-03 20:07:50,202] [paddlets.models.common.callbacks.callbacks] [INFO] epoch 021| loss: 1.315771| val_0_mae: 0.949004| 0:00:02s\n",
      "\u001B[2m\u001B[36m(run_trial pid=26976)\u001B[0m [2022-11-03 20:07:50,369] [paddlets.models.common.callbacks.callbacks] [INFO] epoch 022| loss: 1.336860| val_0_mae: 0.929167| 0:00:02s\n",
      "\u001B[2m\u001B[36m(run_trial pid=26976)\u001B[0m [2022-11-03 20:07:50,524] [paddlets.models.common.callbacks.callbacks] [INFO] epoch 023| loss: 1.365289| val_0_mae: 0.898859| 0:00:03s\n",
      "\u001B[2m\u001B[36m(run_trial pid=26976)\u001B[0m [2022-11-03 20:07:50,680] [paddlets.models.common.callbacks.callbacks] [INFO] epoch 024| loss: 1.224170| val_0_mae: 0.846404| 0:00:03s\n",
      "\u001B[2m\u001B[36m(run_trial pid=26976)\u001B[0m [2022-11-03 20:07:50,812] [paddlets.models.common.callbacks.callbacks] [INFO] epoch 025| loss: 1.220893| val_0_mae: 0.806099| 0:00:03s\n",
      "\u001B[2m\u001B[36m(run_trial pid=26976)\u001B[0m [2022-11-03 20:07:50,962] [paddlets.models.common.callbacks.callbacks] [INFO] epoch 026| loss: 1.179893| val_0_mae: 0.828609| 0:00:03s\n",
      "\u001B[2m\u001B[36m(run_trial pid=26976)\u001B[0m [2022-11-03 20:07:51,107] [paddlets.models.common.callbacks.callbacks] [INFO] epoch 027| loss: 1.145889| val_0_mae: 0.819671| 0:00:03s\n",
      "\u001B[2m\u001B[36m(run_trial pid=26976)\u001B[0m [2022-11-03 20:07:51,256] [paddlets.models.common.callbacks.callbacks] [INFO] epoch 028| loss: 1.189141| val_0_mae: 0.810067| 0:00:03s\n",
      "\u001B[2m\u001B[36m(run_trial pid=26976)\u001B[0m [2022-11-03 20:07:51,380] [paddlets.models.common.callbacks.callbacks] [INFO] epoch 029| loss: 1.143966| val_0_mae: 0.820385| 0:00:03s\n",
      "\u001B[2m\u001B[36m(run_trial pid=26976)\u001B[0m [2022-11-03 20:07:51,556] [paddlets.models.common.callbacks.callbacks] [INFO] epoch 030| loss: 1.119068| val_0_mae: 0.784657| 0:00:04s\n",
      "\u001B[2m\u001B[36m(run_trial pid=26976)\u001B[0m [2022-11-03 20:07:51,702] [paddlets.models.common.callbacks.callbacks] [INFO] epoch 031| loss: 1.134599| val_0_mae: 0.782332| 0:00:04s\n",
      "\u001B[2m\u001B[36m(run_trial pid=26976)\u001B[0m [2022-11-03 20:07:51,853] [paddlets.models.common.callbacks.callbacks] [INFO] epoch 032| loss: 1.116697| val_0_mae: 0.832150| 0:00:04s\n",
      "\u001B[2m\u001B[36m(run_trial pid=26976)\u001B[0m [2022-11-03 20:07:51,973] [paddlets.models.common.callbacks.callbacks] [INFO] epoch 033| loss: 1.158735| val_0_mae: 0.772263| 0:00:04s\n",
      "\u001B[2m\u001B[36m(run_trial pid=26976)\u001B[0m [2022-11-03 20:07:52,091] [paddlets.models.common.callbacks.callbacks] [INFO] epoch 034| loss: 1.177182| val_0_mae: 0.768683| 0:00:04s\n",
      "\u001B[2m\u001B[36m(run_trial pid=26976)\u001B[0m [2022-11-03 20:07:52,235] [paddlets.models.common.callbacks.callbacks] [INFO] epoch 035| loss: 1.096815| val_0_mae: 0.850243| 0:00:04s\n"
     ]
    },
    {
     "data": {
      "text/html": [
       "== Status ==<br>Current time: 2022-11-03 20:07:52 (running for 00:00:12.20)<br>Memory usage on this node: 25.0/187.6 GiB<br>Using FIFO scheduling algorithm.<br>Resources requested: 1.0/56 CPUs, 0/0 GPUs, 0.0/116.57 GiB heap, 0.0/53.95 GiB objects<br>Result logdir: /home/work/ray_results/run_trial_2022-11-03_20-07-40<br>Number of trials: 1/1 (1 RUNNING)<br><table>\n",
       "<thead>\n",
       "<tr><th>Trial name        </th><th>status  </th><th>loc               </th><th>Fill/method  </th><th style=\"text-align: right;\">  Fill/value</th><th style=\"text-align: right;\">  Fill/window_size</th><th style=\"text-align: right;\">  MLPRegressor/batch_size</th><th style=\"text-align: right;\">  MLPRegressor/max_epochs</th><th>MLPRegressor/use_bn  </th></tr>\n",
       "</thead>\n",
       "<tbody>\n",
       "<tr><td>run_trial_1d1fb81e</td><td>RUNNING </td><td>10.182.62.13:26976</td><td>zero         </td><td style=\"text-align: right;\">    0.589486</td><td style=\"text-align: right;\">                29</td><td style=\"text-align: right;\">                       32</td><td style=\"text-align: right;\">                       50</td><td>False                </td></tr>\n",
       "</tbody>\n",
       "</table><br><br>"
      ],
      "text/plain": [
       "<IPython.core.display.HTML object>"
      ]
     },
     "metadata": {},
     "output_type": "display_data"
    },
    {
     "name": "stderr",
     "output_type": "stream",
     "text": [
      "\u001B[2m\u001B[36m(run_trial pid=26976)\u001B[0m [2022-11-03 20:07:52,376] [paddlets.models.common.callbacks.callbacks] [INFO] epoch 036| loss: 1.207132| val_0_mae: 0.800414| 0:00:04s\n",
      "\u001B[2m\u001B[36m(run_trial pid=26976)\u001B[0m [2022-11-03 20:07:52,539] [paddlets.models.common.callbacks.callbacks] [INFO] epoch 037| loss: 1.102531| val_0_mae: 0.807719| 0:00:05s\n",
      "\u001B[2m\u001B[36m(run_trial pid=26976)\u001B[0m [2022-11-03 20:07:52,673] [paddlets.models.common.callbacks.callbacks] [INFO] epoch 038| loss: 1.143725| val_0_mae: 0.774669| 0:00:05s\n",
      "\u001B[2m\u001B[36m(run_trial pid=26976)\u001B[0m [2022-11-03 20:07:52,789] [paddlets.models.common.callbacks.callbacks] [INFO] epoch 039| loss: 1.090562| val_0_mae: 0.760797| 0:00:05s\n",
      "\u001B[2m\u001B[36m(run_trial pid=26976)\u001B[0m [2022-11-03 20:07:52,904] [paddlets.models.common.callbacks.callbacks] [INFO] epoch 040| loss: 1.129319| val_0_mae: 0.790541| 0:00:05s\n",
      "\u001B[2m\u001B[36m(run_trial pid=26976)\u001B[0m [2022-11-03 20:07:53,019] [paddlets.models.common.callbacks.callbacks] [INFO] epoch 041| loss: 1.178506| val_0_mae: 0.761641| 0:00:05s\n",
      "\u001B[2m\u001B[36m(run_trial pid=26976)\u001B[0m [2022-11-03 20:07:53,136] [paddlets.models.common.callbacks.callbacks] [INFO] epoch 042| loss: 1.202558| val_0_mae: 0.759563| 0:00:05s\n",
      "\u001B[2m\u001B[36m(run_trial pid=26976)\u001B[0m [2022-11-03 20:07:53,253] [paddlets.models.common.callbacks.callbacks] [INFO] epoch 043| loss: 1.138329| val_0_mae: 0.771051| 0:00:05s\n",
      "\u001B[2m\u001B[36m(run_trial pid=26976)\u001B[0m [2022-11-03 20:07:53,369] [paddlets.models.common.callbacks.callbacks] [INFO] epoch 044| loss: 1.133610| val_0_mae: 0.794894| 0:00:05s\n",
      "\u001B[2m\u001B[36m(run_trial pid=26976)\u001B[0m [2022-11-03 20:07:53,488] [paddlets.models.common.callbacks.callbacks] [INFO] epoch 045| loss: 1.096335| val_0_mae: 0.817323| 0:00:06s\n",
      "\u001B[2m\u001B[36m(run_trial pid=26976)\u001B[0m [2022-11-03 20:07:53,597] [paddlets.models.common.callbacks.callbacks] [INFO] epoch 046| loss: 1.164947| val_0_mae: 0.804358| 0:00:06s\n",
      "\u001B[2m\u001B[36m(run_trial pid=26976)\u001B[0m [2022-11-03 20:07:53,706] [paddlets.models.common.callbacks.callbacks] [INFO] epoch 047| loss: 1.092402| val_0_mae: 0.771714| 0:00:06s\n",
      "\u001B[2m\u001B[36m(run_trial pid=26976)\u001B[0m [2022-11-03 20:07:53,839] [paddlets.models.common.callbacks.callbacks] [INFO] epoch 048| loss: 1.063060| val_0_mae: 0.805918| 0:00:06s\n",
      "\u001B[2m\u001B[36m(run_trial pid=26976)\u001B[0m [2022-11-03 20:07:53,956] [paddlets.models.common.callbacks.callbacks] [INFO] epoch 049| loss: 1.091366| val_0_mae: 0.770919| 0:00:06s\n",
      "\u001B[2m\u001B[36m(run_trial pid=26976)\u001B[0m [2022-11-03 20:07:53,956] [paddlets.models.common.callbacks.callbacks] [INFO] Stop training because you reached max_epochs = 50 with best_epoch = 42 and best_val_0_mae = 0.759563\n",
      "\u001B[2m\u001B[36m(run_trial pid=26976)\u001B[0m [2022-11-03 20:07:53,956] [paddlets.models.common.callbacks.callbacks] [INFO] Best weights from best epoch are automatically used!\n"
     ]
    },
    {
     "data": {
      "text/html": [
       "== Status ==<br>Current time: 2022-11-03 20:07:57 (running for 00:00:17.21)<br>Memory usage on this node: 25.0/187.6 GiB<br>Using FIFO scheduling algorithm.<br>Resources requested: 1.0/56 CPUs, 0/0 GPUs, 0.0/116.57 GiB heap, 0.0/53.95 GiB objects<br>Result logdir: /home/work/ray_results/run_trial_2022-11-03_20-07-40<br>Number of trials: 1/1 (1 RUNNING)<br><table>\n",
       "<thead>\n",
       "<tr><th>Trial name        </th><th>status  </th><th>loc               </th><th>Fill/method  </th><th style=\"text-align: right;\">  Fill/value</th><th style=\"text-align: right;\">  Fill/window_size</th><th style=\"text-align: right;\">  MLPRegressor/batch_size</th><th style=\"text-align: right;\">  MLPRegressor/max_epochs</th><th>MLPRegressor/use_bn  </th></tr>\n",
       "</thead>\n",
       "<tbody>\n",
       "<tr><td>run_trial_1d1fb81e</td><td>RUNNING </td><td>10.182.62.13:26976</td><td>zero         </td><td style=\"text-align: right;\">    0.589486</td><td style=\"text-align: right;\">                29</td><td style=\"text-align: right;\">                       32</td><td style=\"text-align: right;\">                       50</td><td>False                </td></tr>\n",
       "</tbody>\n",
       "</table><br><br>"
      ],
      "text/plain": [
       "<IPython.core.display.HTML object>"
      ]
     },
     "metadata": {},
     "output_type": "display_data"
    },
    {
     "data": {
      "text/html": [
       "== Status ==<br>Current time: 2022-11-03 20:08:02 (running for 00:00:22.22)<br>Memory usage on this node: 25.0/187.6 GiB<br>Using FIFO scheduling algorithm.<br>Resources requested: 1.0/56 CPUs, 0/0 GPUs, 0.0/116.57 GiB heap, 0.0/53.95 GiB objects<br>Result logdir: /home/work/ray_results/run_trial_2022-11-03_20-07-40<br>Number of trials: 1/1 (1 RUNNING)<br><table>\n",
       "<thead>\n",
       "<tr><th>Trial name        </th><th>status  </th><th>loc               </th><th>Fill/method  </th><th style=\"text-align: right;\">  Fill/value</th><th style=\"text-align: right;\">  Fill/window_size</th><th style=\"text-align: right;\">  MLPRegressor/batch_size</th><th style=\"text-align: right;\">  MLPRegressor/max_epochs</th><th>MLPRegressor/use_bn  </th></tr>\n",
       "</thead>\n",
       "<tbody>\n",
       "<tr><td>run_trial_1d1fb81e</td><td>RUNNING </td><td>10.182.62.13:26976</td><td>zero         </td><td style=\"text-align: right;\">    0.589486</td><td style=\"text-align: right;\">                29</td><td style=\"text-align: right;\">                       32</td><td style=\"text-align: right;\">                       50</td><td>False                </td></tr>\n",
       "</tbody>\n",
       "</table><br><br>"
      ],
      "text/plain": [
       "<IPython.core.display.HTML object>"
      ]
     },
     "metadata": {},
     "output_type": "display_data"
    },
    {
     "data": {
      "text/html": [
       "== Status ==<br>Current time: 2022-11-03 20:08:07 (running for 00:00:27.23)<br>Memory usage on this node: 25.0/187.6 GiB<br>Using FIFO scheduling algorithm.<br>Resources requested: 1.0/56 CPUs, 0/0 GPUs, 0.0/116.57 GiB heap, 0.0/53.95 GiB objects<br>Result logdir: /home/work/ray_results/run_trial_2022-11-03_20-07-40<br>Number of trials: 1/1 (1 RUNNING)<br><table>\n",
       "<thead>\n",
       "<tr><th>Trial name        </th><th>status  </th><th>loc               </th><th>Fill/method  </th><th style=\"text-align: right;\">  Fill/value</th><th style=\"text-align: right;\">  Fill/window_size</th><th style=\"text-align: right;\">  MLPRegressor/batch_size</th><th style=\"text-align: right;\">  MLPRegressor/max_epochs</th><th>MLPRegressor/use_bn  </th></tr>\n",
       "</thead>\n",
       "<tbody>\n",
       "<tr><td>run_trial_1d1fb81e</td><td>RUNNING </td><td>10.182.62.13:26976</td><td>zero         </td><td style=\"text-align: right;\">    0.589486</td><td style=\"text-align: right;\">                29</td><td style=\"text-align: right;\">                       32</td><td style=\"text-align: right;\">                       50</td><td>False                </td></tr>\n",
       "</tbody>\n",
       "</table><br><br>"
      ],
      "text/plain": [
       "<IPython.core.display.HTML object>"
      ]
     },
     "metadata": {},
     "output_type": "display_data"
    },
    {
     "data": {
      "text/html": [
       "== Status ==<br>Current time: 2022-11-03 20:08:12 (running for 00:00:32.24)<br>Memory usage on this node: 25.0/187.6 GiB<br>Using FIFO scheduling algorithm.<br>Resources requested: 1.0/56 CPUs, 0/0 GPUs, 0.0/116.57 GiB heap, 0.0/53.95 GiB objects<br>Result logdir: /home/work/ray_results/run_trial_2022-11-03_20-07-40<br>Number of trials: 1/1 (1 RUNNING)<br><table>\n",
       "<thead>\n",
       "<tr><th>Trial name        </th><th>status  </th><th>loc               </th><th>Fill/method  </th><th style=\"text-align: right;\">  Fill/value</th><th style=\"text-align: right;\">  Fill/window_size</th><th style=\"text-align: right;\">  MLPRegressor/batch_size</th><th style=\"text-align: right;\">  MLPRegressor/max_epochs</th><th>MLPRegressor/use_bn  </th></tr>\n",
       "</thead>\n",
       "<tbody>\n",
       "<tr><td>run_trial_1d1fb81e</td><td>RUNNING </td><td>10.182.62.13:26976</td><td>zero         </td><td style=\"text-align: right;\">    0.589486</td><td style=\"text-align: right;\">                29</td><td style=\"text-align: right;\">                       32</td><td style=\"text-align: right;\">                       50</td><td>False                </td></tr>\n",
       "</tbody>\n",
       "</table><br><br>"
      ],
      "text/plain": [
       "<IPython.core.display.HTML object>"
      ]
     },
     "metadata": {},
     "output_type": "display_data"
    },
    {
     "data": {
      "text/html": [
       "== Status ==<br>Current time: 2022-11-03 20:08:17 (running for 00:00:37.25)<br>Memory usage on this node: 25.0/187.6 GiB<br>Using FIFO scheduling algorithm.<br>Resources requested: 1.0/56 CPUs, 0/0 GPUs, 0.0/116.57 GiB heap, 0.0/53.95 GiB objects<br>Result logdir: /home/work/ray_results/run_trial_2022-11-03_20-07-40<br>Number of trials: 1/1 (1 RUNNING)<br><table>\n",
       "<thead>\n",
       "<tr><th>Trial name        </th><th>status  </th><th>loc               </th><th>Fill/method  </th><th style=\"text-align: right;\">  Fill/value</th><th style=\"text-align: right;\">  Fill/window_size</th><th style=\"text-align: right;\">  MLPRegressor/batch_size</th><th style=\"text-align: right;\">  MLPRegressor/max_epochs</th><th>MLPRegressor/use_bn  </th></tr>\n",
       "</thead>\n",
       "<tbody>\n",
       "<tr><td>run_trial_1d1fb81e</td><td>RUNNING </td><td>10.182.62.13:26976</td><td>zero         </td><td style=\"text-align: right;\">    0.589486</td><td style=\"text-align: right;\">                29</td><td style=\"text-align: right;\">                       32</td><td style=\"text-align: right;\">                       50</td><td>False                </td></tr>\n",
       "</tbody>\n",
       "</table><br><br>"
      ],
      "text/plain": [
       "<IPython.core.display.HTML object>"
      ]
     },
     "metadata": {},
     "output_type": "display_data"
    },
    {
     "data": {
      "text/html": [
       "== Status ==<br>Current time: 2022-11-03 20:08:22 (running for 00:00:42.26)<br>Memory usage on this node: 25.0/187.6 GiB<br>Using FIFO scheduling algorithm.<br>Resources requested: 1.0/56 CPUs, 0/0 GPUs, 0.0/116.57 GiB heap, 0.0/53.95 GiB objects<br>Result logdir: /home/work/ray_results/run_trial_2022-11-03_20-07-40<br>Number of trials: 1/1 (1 RUNNING)<br><table>\n",
       "<thead>\n",
       "<tr><th>Trial name        </th><th>status  </th><th>loc               </th><th>Fill/method  </th><th style=\"text-align: right;\">  Fill/value</th><th style=\"text-align: right;\">  Fill/window_size</th><th style=\"text-align: right;\">  MLPRegressor/batch_size</th><th style=\"text-align: right;\">  MLPRegressor/max_epochs</th><th>MLPRegressor/use_bn  </th></tr>\n",
       "</thead>\n",
       "<tbody>\n",
       "<tr><td>run_trial_1d1fb81e</td><td>RUNNING </td><td>10.182.62.13:26976</td><td>zero         </td><td style=\"text-align: right;\">    0.589486</td><td style=\"text-align: right;\">                29</td><td style=\"text-align: right;\">                       32</td><td style=\"text-align: right;\">                       50</td><td>False                </td></tr>\n",
       "</tbody>\n",
       "</table><br><br>"
      ],
      "text/plain": [
       "<IPython.core.display.HTML object>"
      ]
     },
     "metadata": {},
     "output_type": "display_data"
    },
    {
     "data": {
      "text/html": [
       "== Status ==<br>Current time: 2022-11-03 20:08:27 (running for 00:00:47.27)<br>Memory usage on this node: 25.0/187.6 GiB<br>Using FIFO scheduling algorithm.<br>Resources requested: 1.0/56 CPUs, 0/0 GPUs, 0.0/116.57 GiB heap, 0.0/53.95 GiB objects<br>Result logdir: /home/work/ray_results/run_trial_2022-11-03_20-07-40<br>Number of trials: 1/1 (1 RUNNING)<br><table>\n",
       "<thead>\n",
       "<tr><th>Trial name        </th><th>status  </th><th>loc               </th><th>Fill/method  </th><th style=\"text-align: right;\">  Fill/value</th><th style=\"text-align: right;\">  Fill/window_size</th><th style=\"text-align: right;\">  MLPRegressor/batch_size</th><th style=\"text-align: right;\">  MLPRegressor/max_epochs</th><th>MLPRegressor/use_bn  </th></tr>\n",
       "</thead>\n",
       "<tbody>\n",
       "<tr><td>run_trial_1d1fb81e</td><td>RUNNING </td><td>10.182.62.13:26976</td><td>zero         </td><td style=\"text-align: right;\">    0.589486</td><td style=\"text-align: right;\">                29</td><td style=\"text-align: right;\">                       32</td><td style=\"text-align: right;\">                       50</td><td>False                </td></tr>\n",
       "</tbody>\n",
       "</table><br><br>"
      ],
      "text/plain": [
       "<IPython.core.display.HTML object>"
      ]
     },
     "metadata": {},
     "output_type": "display_data"
    },
    {
     "name": "stdout",
     "output_type": "stream",
     "text": [
      "Result for run_trial_1d1fb81e:\n",
      "  date: 2022-11-03_20-08-31\n",
      "  done: false\n",
      "  experiment_id: 8c851e3e7d054c118baacc3a6fd866c4\n",
      "  hostname: yq01-m42-xi4-25-for-other-luanwei-863588.yq01.baidu.com\n",
      "  iterations_since_restore: 1\n",
      "  loss: 0.7847563280723457\n",
      "  node_ip: 10.182.62.13\n",
      "  pid: 26976\n",
      "  time_since_restore: 44.57377243041992\n",
      "  time_this_iter_s: 44.57377243041992\n",
      "  time_total_s: 44.57377243041992\n",
      "  timestamp: 1667477311\n",
      "  timesteps_since_restore: 0\n",
      "  training_iteration: 1\n",
      "  trial_id: 1d1fb81e\n",
      "  warmup_time: 0.0057294368743896484\n",
      "  \n",
      "Result for run_trial_1d1fb81e:\n",
      "  date: 2022-11-03_20-08-31\n",
      "  done: true\n",
      "  experiment_id: 8c851e3e7d054c118baacc3a6fd866c4\n",
      "  experiment_tag: 1_cols=WetBulbCelsius,method=zero,value=0.5895,window_size=29,batch_size=32,max_epochs=50,use_bn=False\n",
      "  hostname: yq01-m42-xi4-25-for-other-luanwei-863588.yq01.baidu.com\n",
      "  iterations_since_restore: 1\n",
      "  loss: 0.7847563280723457\n",
      "  node_ip: 10.182.62.13\n",
      "  pid: 26976\n",
      "  time_since_restore: 44.57377243041992\n",
      "  time_this_iter_s: 44.57377243041992\n",
      "  time_total_s: 44.57377243041992\n",
      "  timestamp: 1667477311\n",
      "  timesteps_since_restore: 0\n",
      "  training_iteration: 1\n",
      "  trial_id: 1d1fb81e\n",
      "  warmup_time: 0.0057294368743896484\n",
      "  \n"
     ]
    },
    {
     "data": {
      "text/html": [
       "== Status ==<br>Current time: 2022-11-03 20:08:31 (running for 00:00:51.80)<br>Memory usage on this node: 25.0/187.6 GiB<br>Using FIFO scheduling algorithm.<br>Resources requested: 0/56 CPUs, 0/0 GPUs, 0.0/116.57 GiB heap, 0.0/53.95 GiB objects<br>Current best trial: 1d1fb81e with loss=0.7847563280723457 and parameters={'Fill': {'cols': ['WetBulbCelsius'], 'method': 'zero', 'value': 0.5894864023664573, 'window_size': 29}, 'MLPRegressor': {'batch_size': 32, 'use_bn': False, 'max_epochs': 50}}<br>Result logdir: /home/work/ray_results/run_trial_2022-11-03_20-07-40<br>Number of trials: 1/1 (1 TERMINATED)<br><table>\n",
       "<thead>\n",
       "<tr><th>Trial name        </th><th>status    </th><th>loc               </th><th>Fill/method  </th><th style=\"text-align: right;\">  Fill/value</th><th style=\"text-align: right;\">  Fill/window_size</th><th style=\"text-align: right;\">  MLPRegressor/batch_size</th><th style=\"text-align: right;\">  MLPRegressor/max_epochs</th><th>MLPRegressor/use_bn  </th><th style=\"text-align: right;\">  iter</th><th style=\"text-align: right;\">  total time (s)</th><th style=\"text-align: right;\">    loss</th></tr>\n",
       "</thead>\n",
       "<tbody>\n",
       "<tr><td>run_trial_1d1fb81e</td><td>TERMINATED</td><td>10.182.62.13:26976</td><td>zero         </td><td style=\"text-align: right;\">    0.589486</td><td style=\"text-align: right;\">                29</td><td style=\"text-align: right;\">                       32</td><td style=\"text-align: right;\">                       50</td><td>False                </td><td style=\"text-align: right;\">     1</td><td style=\"text-align: right;\">         44.5738</td><td style=\"text-align: right;\">0.784756</td></tr>\n",
       "</tbody>\n",
       "</table><br><br>"
      ],
      "text/plain": [
       "<IPython.core.display.HTML object>"
      ]
     },
     "metadata": {},
     "output_type": "display_data"
    },
    {
     "name": "stderr",
     "output_type": "stream",
     "text": [
      "2022-11-03 20:08:32,057\tINFO tune.py:748 -- Total run time: 51.94 seconds (51.79 seconds for the tuning loop).\n",
      "[2022-11-03 20:08:32,071] [paddlets.automl.autots] [INFO] AutoTS: start refit\n",
      "[2022-11-03 20:08:32,073] [paddlets.automl.optimize_runner] [INFO] setup_estimator: init pipeline. Params: [(<class 'paddlets.transform.fill.Fill'>, {'cols': ['WetBulbCelsius'], 'method': 'zero', 'value': 0.5894864023664573, 'window_size': 29}), (<class 'paddlets.models.forecasting.dl.mlp.MLPRegressor'>, {'batch_size': 32, 'use_bn': False, 'max_epochs': 50, 'in_chunk_len': 25, 'out_chunk_len': 2, 'skip_chunk_len': 0, 'sampling_stride': 25, 'seed': 2022})]\n",
      "[2022-11-03 20:08:32,242] [paddlets.models.common.callbacks.callbacks] [INFO] epoch 000| loss: 8.221830| val_0_mae: 1.561473| 0:00:00s\n",
      "[2022-11-03 20:08:32,354] [paddlets.models.common.callbacks.callbacks] [INFO] epoch 001| loss: 3.027953| val_0_mae: 1.395608| 0:00:00s\n",
      "[2022-11-03 20:08:32,467] [paddlets.models.common.callbacks.callbacks] [INFO] epoch 002| loss: 2.565676| val_0_mae: 1.319632| 0:00:00s\n",
      "[2022-11-03 20:08:32,576] [paddlets.models.common.callbacks.callbacks] [INFO] epoch 003| loss: 2.263031| val_0_mae: 1.243561| 0:00:00s\n",
      "[2022-11-03 20:08:32,716] [paddlets.models.common.callbacks.callbacks] [INFO] epoch 004| loss: 2.048936| val_0_mae: 1.202278| 0:00:00s\n",
      "[2022-11-03 20:08:32,878] [paddlets.models.common.callbacks.callbacks] [INFO] epoch 005| loss: 1.915427| val_0_mae: 1.142330| 0:00:00s\n",
      "[2022-11-03 20:08:33,019] [paddlets.models.common.callbacks.callbacks] [INFO] epoch 006| loss: 1.824134| val_0_mae: 1.092883| 0:00:00s\n",
      "[2022-11-03 20:08:33,161] [paddlets.models.common.callbacks.callbacks] [INFO] epoch 007| loss: 1.690247| val_0_mae: 1.059282| 0:00:01s\n",
      "[2022-11-03 20:08:33,281] [paddlets.models.common.callbacks.callbacks] [INFO] epoch 008| loss: 1.618716| val_0_mae: 1.032227| 0:00:01s\n",
      "[2022-11-03 20:08:33,427] [paddlets.models.common.callbacks.callbacks] [INFO] epoch 009| loss: 1.551539| val_0_mae: 1.016842| 0:00:01s\n",
      "[2022-11-03 20:08:33,565] [paddlets.models.common.callbacks.callbacks] [INFO] epoch 010| loss: 1.531630| val_0_mae: 0.990182| 0:00:01s\n",
      "[2022-11-03 20:08:33,702] [paddlets.models.common.callbacks.callbacks] [INFO] epoch 011| loss: 1.514637| val_0_mae: 1.021482| 0:00:01s\n",
      "[2022-11-03 20:08:33,821] [paddlets.models.common.callbacks.callbacks] [INFO] epoch 012| loss: 1.600873| val_0_mae: 0.913237| 0:00:01s\n",
      "[2022-11-03 20:08:33,941] [paddlets.models.common.callbacks.callbacks] [INFO] epoch 013| loss: 1.371143| val_0_mae: 0.918557| 0:00:01s\n",
      "[2022-11-03 20:08:34,104] [paddlets.models.common.callbacks.callbacks] [INFO] epoch 014| loss: 1.486354| val_0_mae: 0.957080| 0:00:01s\n",
      "[2022-11-03 20:08:34,251] [paddlets.models.common.callbacks.callbacks] [INFO] epoch 015| loss: 1.487120| val_0_mae: 0.894444| 0:00:02s\n",
      "[2022-11-03 20:08:34,392] [paddlets.models.common.callbacks.callbacks] [INFO] epoch 016| loss: 1.368064| val_0_mae: 0.884903| 0:00:02s\n",
      "[2022-11-03 20:08:34,534] [paddlets.models.common.callbacks.callbacks] [INFO] epoch 017| loss: 1.335204| val_0_mae: 0.878176| 0:00:02s\n",
      "[2022-11-03 20:08:34,665] [paddlets.models.common.callbacks.callbacks] [INFO] epoch 018| loss: 1.338251| val_0_mae: 0.908470| 0:00:02s\n",
      "[2022-11-03 20:08:34,792] [paddlets.models.common.callbacks.callbacks] [INFO] epoch 019| loss: 1.344944| val_0_mae: 0.867750| 0:00:02s\n",
      "[2022-11-03 20:08:34,949] [paddlets.models.common.callbacks.callbacks] [INFO] epoch 020| loss: 1.342373| val_0_mae: 0.858850| 0:00:02s\n",
      "[2022-11-03 20:08:35,078] [paddlets.models.common.callbacks.callbacks] [INFO] epoch 021| loss: 1.249182| val_0_mae: 0.912151| 0:00:02s\n",
      "[2022-11-03 20:08:35,195] [paddlets.models.common.callbacks.callbacks] [INFO] epoch 022| loss: 1.213196| val_0_mae: 0.844102| 0:00:03s\n",
      "[2022-11-03 20:08:35,315] [paddlets.models.common.callbacks.callbacks] [INFO] epoch 023| loss: 1.337965| val_0_mae: 0.881800| 0:00:03s\n",
      "[2022-11-03 20:08:35,451] [paddlets.models.common.callbacks.callbacks] [INFO] epoch 024| loss: 1.289244| val_0_mae: 0.895859| 0:00:03s\n",
      "[2022-11-03 20:08:35,591] [paddlets.models.common.callbacks.callbacks] [INFO] epoch 025| loss: 1.303137| val_0_mae: 0.892208| 0:00:03s\n",
      "[2022-11-03 20:08:35,730] [paddlets.models.common.callbacks.callbacks] [INFO] epoch 026| loss: 1.281214| val_0_mae: 0.864420| 0:00:03s\n",
      "[2022-11-03 20:08:35,861] [paddlets.models.common.callbacks.callbacks] [INFO] epoch 027| loss: 1.171203| val_0_mae: 0.823647| 0:00:03s\n",
      "[2022-11-03 20:08:35,977] [paddlets.models.common.callbacks.callbacks] [INFO] epoch 028| loss: 1.170381| val_0_mae: 0.811287| 0:00:03s\n",
      "[2022-11-03 20:08:36,091] [paddlets.models.common.callbacks.callbacks] [INFO] epoch 029| loss: 1.144916| val_0_mae: 0.813389| 0:00:03s\n",
      "[2022-11-03 20:08:36,208] [paddlets.models.common.callbacks.callbacks] [INFO] epoch 030| loss: 1.305571| val_0_mae: 0.864033| 0:00:04s\n",
      "[2022-11-03 20:08:36,327] [paddlets.models.common.callbacks.callbacks] [INFO] epoch 031| loss: 1.260100| val_0_mae: 0.804659| 0:00:04s\n",
      "[2022-11-03 20:08:36,447] [paddlets.models.common.callbacks.callbacks] [INFO] epoch 032| loss: 1.124471| val_0_mae: 0.811614| 0:00:04s\n",
      "[2022-11-03 20:08:36,567] [paddlets.models.common.callbacks.callbacks] [INFO] epoch 033| loss: 1.256932| val_0_mae: 0.890576| 0:00:04s\n",
      "[2022-11-03 20:08:36,683] [paddlets.models.common.callbacks.callbacks] [INFO] epoch 034| loss: 1.132381| val_0_mae: 0.797777| 0:00:04s\n",
      "[2022-11-03 20:08:36,827] [paddlets.models.common.callbacks.callbacks] [INFO] epoch 035| loss: 1.122696| val_0_mae: 0.789598| 0:00:04s\n",
      "[2022-11-03 20:08:36,991] [paddlets.models.common.callbacks.callbacks] [INFO] epoch 036| loss: 1.166350| val_0_mae: 0.841908| 0:00:04s\n",
      "[2022-11-03 20:08:37,117] [paddlets.models.common.callbacks.callbacks] [INFO] epoch 037| loss: 1.156157| val_0_mae: 0.833142| 0:00:04s\n",
      "[2022-11-03 20:08:37,272] [paddlets.models.common.callbacks.callbacks] [INFO] epoch 038| loss: 1.164387| val_0_mae: 0.800101| 0:00:05s\n",
      "[2022-11-03 20:08:37,417] [paddlets.models.common.callbacks.callbacks] [INFO] epoch 039| loss: 1.146803| val_0_mae: 0.774630| 0:00:05s\n",
      "[2022-11-03 20:08:37,562] [paddlets.models.common.callbacks.callbacks] [INFO] epoch 040| loss: 1.100529| val_0_mae: 0.775860| 0:00:05s\n",
      "[2022-11-03 20:08:37,684] [paddlets.models.common.callbacks.callbacks] [INFO] epoch 041| loss: 1.144214| val_0_mae: 0.793703| 0:00:05s\n",
      "[2022-11-03 20:08:37,801] [paddlets.models.common.callbacks.callbacks] [INFO] epoch 042| loss: 1.114439| val_0_mae: 0.809340| 0:00:05s\n",
      "[2022-11-03 20:08:37,920] [paddlets.models.common.callbacks.callbacks] [INFO] epoch 043| loss: 1.095670| val_0_mae: 0.798199| 0:00:05s\n",
      "[2022-11-03 20:08:38,051] [paddlets.models.common.callbacks.callbacks] [INFO] epoch 044| loss: 1.074431| val_0_mae: 0.844543| 0:00:05s\n",
      "[2022-11-03 20:08:38,216] [paddlets.models.common.callbacks.callbacks] [INFO] epoch 045| loss: 1.088633| val_0_mae: 0.809124| 0:00:06s\n",
      "[2022-11-03 20:08:38,397] [paddlets.models.common.callbacks.callbacks] [INFO] epoch 046| loss: 1.119677| val_0_mae: 0.806103| 0:00:06s\n",
      "[2022-11-03 20:08:38,550] [paddlets.models.common.callbacks.callbacks] [INFO] epoch 047| loss: 1.097205| val_0_mae: 0.799770| 0:00:06s\n",
      "[2022-11-03 20:08:38,712] [paddlets.models.common.callbacks.callbacks] [INFO] epoch 048| loss: 1.135992| val_0_mae: 0.792153| 0:00:06s\n",
      "[2022-11-03 20:08:38,851] [paddlets.models.common.callbacks.callbacks] [INFO] epoch 049| loss: 1.091611| val_0_mae: 0.777839| 0:00:06s\n",
      "[2022-11-03 20:08:38,853] [paddlets.models.common.callbacks.callbacks] [INFO] \n",
      "Early stopping occurred at epoch 49 with best_epoch = 39 and best_val_0_mae = 0.774630\n",
      "[2022-11-03 20:08:38,855] [paddlets.models.common.callbacks.callbacks] [INFO] Best weights from best epoch are automatically used!\n",
      "[2022-11-03 20:08:38,857] [paddlets.automl.autots] [INFO] AutoTS: refitted\n"
     ]
    }
   ],
   "source": [
    "from ray.tune import uniform, qrandint, choice\n",
    "from paddlets.transform import Fill\n",
    "\n",
    "sp = {\n",
    "    \"Fill\": {\n",
    "        \"cols\": ['WetBulbCelsius'],\n",
    "        \"method\": choice(['max', 'min', 'mean', 'median', 'pre', 'next', 'zero']),\n",
    "        \"value\": uniform(0.1, 0.9),\n",
    "        \"window_size\": qrandint(20, 50, q=1)\n",
    "    },\n",
    "    \"MLPRegressor\": {\n",
    "        \"batch_size\": qrandint(16, 64, q=16),\n",
    "        \"use_bn\": choice([True, False]),\n",
    "        \"max_epochs\": qrandint(10, 50, q=10)\n",
    "    }\n",
    "}\n",
    "autots_model = AutoTS([Fill, MLPRegressor], 25, 2, search_space=sp, sampling_stride=25)\n",
    "autots_model.fit(tsdataset, n_trials=1)\n",
    "sp = autots_model.search_space()\n",
    "predicted = autots_model.predict(tsdataset)"
   ]
  },
  {
   "cell_type": "markdown",
   "id": "9382f987",
   "metadata": {},
   "source": [
    "搜索空间定义的 API 可以参考：https://docs.ray.io/en/latest/tune/api_docs/search_space.html"
   ]
  },
  {
   "cell_type": "markdown",
   "id": "99782716",
   "metadata": {},
   "source": [
    "## 4. 搜索算法\n",
    "\n",
    "PaddleTS 的搜索算法是利用多个开源的超参优化库包装而成。\n",
    "\n",
    "我们内置了如下几种搜索算法：\n",
    "[“Random”, “CMAES”, “TPE”, “CFO”, “BlendSearch”, “Bayes”]\n",
    "\n",
    "对于这些超参优化库的细节，可以参考它们对应的开源文档。\n",
    "\n",
    "你可以通过下面的方式指定搜索算法：\n",
    "\n"
   ]
  },
  {
   "cell_type": "code",
   "execution_count": 4,
   "id": "a87b1982",
   "metadata": {},
   "outputs": [],
   "source": [
    "autots_model = AutoTS(MLPRegressor, 96, 2, search_space=\"CMAES\")"
   ]
  },
  {
   "cell_type": "markdown",
   "id": "155780f7",
   "metadata": {},
   "source": [
    "如果搜索算法没有被指定，我们会默认使用TPE算法。"
   ]
  }
 ],
 "metadata": {
  "kernelspec": {
   "display_name": "Python 3 (ipykernel)",
   "language": "python",
   "name": "python3"
  },
  "language_info": {
   "codemirror_mode": {
    "name": "ipython",
    "version": 3
   },
   "file_extension": ".py",
   "mimetype": "text/x-python",
   "name": "python",
   "nbconvert_exporter": "python",
   "pygments_lexer": "ipython3",
   "version": "3.7.13"
  }
 },
 "nbformat": 4,
 "nbformat_minor": 5
}